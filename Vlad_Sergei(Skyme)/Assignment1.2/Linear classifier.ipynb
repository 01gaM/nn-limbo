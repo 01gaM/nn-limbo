{
 "cells": [
  {
   "cell_type": "markdown",
   "execution_count": null,
   "metadata": {},
   "outputs": [],
   "source": [
    "# Задание 1.2 - Линейный классификатор (Linear classifier)\n",
    "\n",
    "В этом задании мы реализуем другую модель машинного обучения - линейный классификатор. Линейный классификатор подбирает для каждого класса веса, на которые нужно умножить значение каждого признака и потом сложить вместе.\n",
    "Тот класс, у которого эта сумма больше, и является предсказанием модели.\n",
    "\n",
    "В этом задании вы:\n",
    "- потренируетесь считать градиенты различных многомерных функций\n",
    "- реализуете подсчет градиентов через линейную модель и функцию потерь softmax\n",
    "- реализуете процесс тренировки линейного классификатора\n",
    "- подберете параметры тренировки на практике\n",
    "\n",
    "На всякий случай, еще раз ссылка на туториал по numpy:  \n",
    "http://cs231n.github.io/python-numpy-tutorial/"
   ]
  },
  {
   "cell_type": "code",
   "execution_count": 1,
   "metadata": {},
   "outputs": [],
   "source": [
    "import numpy as np\n",
    "import matplotlib.pyplot as plt\n",
    "\n",
    "%matplotlib inline\n",
    "\n",
    "%load_ext autoreload\n",
    "%autoreload 2"
   ]
  },
  {
   "cell_type": "code",
   "execution_count": 2,
   "metadata": {},
   "outputs": [],
   "source": [
    "from dataset import load_svhn, random_split_train_val\n",
    "from gradient_check import check_gradient\n",
    "from metrics import multiclass_accuracy\n",
    "import linear_classifer"
   ]
  },
  {
   "cell_type": "markdown",
   "execution_count": null,
   "metadata": {},
   "outputs": [],
   "source": [
    "# Как всегда, первым делом загружаем данные\n",
    "\n",
    "Мы будем использовать все тот же SVHN."
   ]
  },
  {
   "cell_type": "code",
   "execution_count": 5,
   "metadata": {},
   "outputs": [],
   "source": [
    "def prepare_for_linear_classifier(train_X, test_X):\n",
    "    train_flat = train_X.reshape(train_X.shape[0], -1).astype(np.float) / 255.0\n",
    "    test_flat = test_X.reshape(test_X.shape[0], -1).astype(np.float) / 255.0\n",
    "    \n",
    "    # Subtract mean\n",
    "    mean_image = np.mean(train_flat, axis = 0)\n",
    "    train_flat -= mean_image\n",
    "    test_flat -= mean_image\n",
    "    \n",
    "    # Add another channel with ones as a bias term\n",
    "    train_flat_with_ones = np.hstack([train_flat, np.ones((train_X.shape[0], 1))])\n",
    "    test_flat_with_ones = np.hstack([test_flat, np.ones((test_X.shape[0], 1))])    \n",
    "    return train_flat_with_ones, test_flat_with_ones\n",
    "    \n",
    "train_X, train_y, test_X, test_y = load_svhn(\"data\", max_train=10000, max_test=1000)    \n",
    "train_X, test_X = prepare_for_linear_classifier(train_X, test_X)\n",
    "# Split train into train and val\n",
    "train_X, train_y, val_X, val_y = random_split_train_val(train_X, train_y, num_val = 1000)"
   ]
  },
  {
   "cell_type": "markdown",
   "execution_count": null,
   "metadata": {},
   "outputs": [],
   "source": [
    "# Играемся с градиентами!\n",
    "\n",
    "В этом курсе мы будем писать много функций, которые вычисляют градиенты аналитическим методом.\n",
    "\n",
    "Все функции, в которых мы будем вычислять градиенты, будут написаны по одной и той же схеме.  \n",
    "Они будут получать на вход точку, где нужно вычислить значение и градиент функции, а на выходе будут выдавать кортеж (tuple) из двух значений - собственно значения функции в этой точке (всегда одно число) и аналитического значения градиента в той же точке (той же размерности, что и вход).\n",
    "```\n",
    "def f(x):\n",
    "    \"\"\"\n",
    "    Computes function and analytic gradient at x\n",
    "    \n",
    "    x: np array of float, input to the function\n",
    "    \n",
    "    Returns:\n",
    "    value: float, value of the function \n",
    "    grad: np array of float, same shape as x\n",
    "    \"\"\"\n",
    "    ...\n",
    "    \n",
    "    return value, grad\n",
    "```\n",
    "\n",
    "Необходимым инструментом во время реализации кода, вычисляющего градиенты, является функция его проверки. Эта функция вычисляет градиент численным методом и сверяет результат с градиентом, вычисленным аналитическим методом.\n",
    "\n",
    "Мы начнем с того, чтобы реализовать вычисление численного градиента (numeric gradient) в функции `check_gradient` в `gradient_check.py`. Эта функция будет принимать на вход функции формата, заданного выше, использовать значение `value` для вычисления численного градиента и сравнит его с аналитическим - они должны сходиться.\n",
    "\n",
    "Напишите часть функции, которая вычисляет градиент с помощью численной производной для каждой координаты. Для вычисления производной используйте так называемую two-point formula (https://en.wikipedia.org/wiki/Numerical_differentiation):\n",
    "\n",
    "![image](https://wikimedia.org/api/rest_v1/media/math/render/svg/22fc2c0a66c63560a349604f8b6b39221566236d)\n",
    "\n",
    "Все функции приведенные в следующей клетке должны проходить gradient check."
   ]
  },
  {
   "cell_type": "code",
   "execution_count": 6,
   "metadata": {},
   "outputs": [
    {
     "name": "stdout",
     "output_type": "stream",
     "text": "Gradient check passed!\nGradient check passed!\nGradient check passed!\n"
    },
    {
     "data": {
      "text/plain": "True"
     },
     "execution_count": 6,
     "metadata": {},
     "output_type": "execute_result"
    }
   ],
   "source": [
    "# TODO: Implement check_gradient function in gradient_check.py\n",
    "# All the functions below should pass the gradient check\n",
    "\n",
    "def square(x):\n",
    "    return float(x*x), 2*x\n",
    "\n",
    "check_gradient(square, np.array([3.0]))\n",
    "\n",
    "def array_sum(x):\n",
    "    assert x.shape == (2,), x.shape\n",
    "    return np.sum(x), np.ones_like(x)\n",
    "\n",
    "check_gradient(array_sum, np.array([3.0, 2.0]))\n",
    "\n",
    "def array_2d_sum(x):\n",
    "    assert x.shape == (2,2)\n",
    "    return np.sum(x), np.ones_like(x)\n",
    "\n",
    "check_gradient(array_2d_sum, np.array([[3.0, 2.0], [1.0, 0.0]]))"
   ]
  },
  {
   "cell_type": "markdown",
   "execution_count": null,
   "metadata": {},
   "outputs": [],
   "source": [
    "## Начинаем писать свои функции, считающие аналитический градиент\n",
    "\n",
    "Теперь реализуем функцию softmax, которая получает на вход оценки для каждого класса и преобразует их в вероятности от 0 до 1:\n",
    "![image](https://wikimedia.org/api/rest_v1/media/math/render/svg/e348290cf48ddbb6e9a6ef4e39363568b67c09d3)\n",
    "\n",
    "**Важно:** Практический аспект вычисления этой функции заключается в том, что в ней учавствует вычисление экспоненты от потенциально очень больших чисел - это может привести к очень большим значениям в числителе и знаменателе за пределами диапазона float.\n",
    "\n",
    "К счастью, у этой проблемы есть простое решение -- перед вычислением softmax вычесть из всех оценок максимальное значение среди всех оценок:\n",
    "```\n",
    "predictions -= np.max(predictions)\n",
    "```\n",
    "(подробнее здесь - http://cs231n.github.io/linear-classify/#softmax, секция `Practical issues: Numeric stability`)"
   ]
  },
  {
   "cell_type": "code",
   "execution_count": 7,
   "metadata": {},
   "outputs": [],
   "source": [
    "# TODO Implement softmax and cross-entropy for single sample\n",
    "#probs = linear_classifer.softmax(np.array([-10, 0, 10]))\n",
    "\n",
    "# Make sure it works for big numbers too!\n",
    "probs = linear_classifer.softmax(np.array([1000, 0, 0]))\n",
    "assert np.isclose(probs[0], 1.0)"
   ]
  },
  {
   "cell_type": "markdown",
   "execution_count": null,
   "metadata": {},
   "outputs": [],
   "source": [
    "Кроме этого, мы реализуем cross-entropy loss, которую мы будем использовать как функцию ошибки (error function).\n",
    "В общем виде cross-entropy определена следующим образом:\n",
    "![image](https://wikimedia.org/api/rest_v1/media/math/render/svg/0cb6da032ab424eefdca0884cd4113fe578f4293)\n",
    "\n",
    "где x - все классы, p(x) - истинная вероятность принадлежности сэмпла классу x, а q(x) - вероятность принадлежности классу x, предсказанная моделью.  \n",
    "В нашем случае сэмпл принадлежит только одному классу, индекс которого передается функции. Для него p(x) равна 1, а для остальных классов - 0. \n",
    "\n",
    "Это позволяет реализовать функцию проще!"
   ]
  },
  {
   "cell_type": "code",
   "execution_count": 8,
   "metadata": {},
   "outputs": [
    {
     "data": {
      "text/plain": "5.006760443547121"
     },
     "execution_count": 8,
     "metadata": {},
     "output_type": "execute_result"
    }
   ],
   "source": [
    "probs = linear_classifer.softmax(np.array([-5, 0, 5]))\n",
    "linear_classifer.cross_entropy_loss(probs, 1)"
   ]
  },
  {
   "cell_type": "markdown",
   "execution_count": null,
   "metadata": {},
   "outputs": [],
   "source": [
    "После того как мы реализовали сами функции, мы можем реализовать градиент.\n",
    "\n",
    "Оказывается, что вычисление градиента становится гораздо проще, если объединить эти функции в одну, которая сначала вычисляет вероятности через softmax, а потом использует их для вычисления функции ошибки через cross-entropy loss.\n",
    "\n",
    "Эта функция `softmax_with_cross_entropy` будет возвращает и значение ошибки, и градиент по входным параметрам. Мы проверим корректность реализации с помощью `check_gradient`."
   ]
  },
  {
   "cell_type": "code",
   "execution_count": 9,
   "metadata": {},
   "outputs": [
    {
     "name": "stdout",
     "output_type": "stream",
     "text": "Gradient check passed!\n"
    },
    {
     "data": {
      "text/plain": "True"
     },
     "execution_count": 9,
     "metadata": {},
     "output_type": "execute_result"
    }
   ],
   "source": [
    "# TODO Implement combined function or softmax and cross entropy and produces gradient\n",
    "loss, grad = linear_classifer.softmax_with_cross_entropy(np.array([1, 0, 0]), 1)\n",
    "check_gradient(lambda x: linear_classifer.softmax_with_cross_entropy(x, 1), np.array([1, 0, 0], np.float))"
   ]
  },
  {
   "cell_type": "markdown",
   "execution_count": null,
   "metadata": {},
   "outputs": [],
   "source": [
    "В качестве метода тренировки мы будем использовать стохастический градиентный спуск (stochastic gradient descent или SGD), который работает с батчами сэмплов. \n",
    "\n",
    "Поэтому все наши фукнции будут получать не один пример, а батч, то есть входом будет не вектор из `num_classes` оценок, а матрица размерности `batch_size, num_classes`. Индекс примера в батче всегда будет первым измерением.\n",
    "\n",
    "Следующий шаг - переписать наши функции так, чтобы они поддерживали батчи.\n",
    "\n",
    "Финальное значение функции ошибки должно остаться числом, и оно равно среднему значению ошибки среди всех примеров в батче."
   ]
  },
  {
   "cell_type": "code",
   "execution_count": 10,
   "metadata": {},
   "outputs": [
    {
     "name": "stdout",
     "output_type": "stream",
     "text": "Gradient check passed!\nGradient check passed!\n"
    }
   ],
   "source": [
    "# TODO Extend combined function so it can receive a 2d array with batch of samples\n",
    "np.random.seed(42)\n",
    "# Test batch_size = 1\n",
    "num_classes = 4\n",
    "batch_size = 1\n",
    "predictions = np.random.randint(-1, 3, size=(batch_size, num_classes)).astype(np.float)\n",
    "target_index = np.random.randint(0, num_classes, size=(batch_size, 1)).astype(np.int)\n",
    "check_gradient(lambda x: linear_classifer.softmax_with_cross_entropy(x, target_index), predictions)\n",
    "\n",
    "# Test batch_size = 3\n",
    "num_classes = 4\n",
    "batch_size = 3\n",
    "predictions = np.random.randint(-1, 3, size=(batch_size, num_classes)).astype(np.float)\n",
    "target_index = np.random.randint(0, num_classes, size=(batch_size, 1)).astype(np.int)\n",
    "check_gradient(lambda x: linear_classifer.softmax_with_cross_entropy(x, target_index), predictions)\n",
    "\n",
    "# Make sure maximum subtraction for numberic stability is done separately for every sample in the batch\n",
    "probs = linear_classifer.softmax(np.array([[20,0,0], [1000, 0, 0]]))\n",
    "assert np.all(np.isclose(probs[:, 0], 1.0))"
   ]
  },
  {
   "cell_type": "markdown",
   "execution_count": null,
   "metadata": {},
   "outputs": [],
   "source": [
    "### Наконец, реализуем сам линейный классификатор!\n",
    "\n",
    "softmax и cross-entropy получают на вход оценки, которые выдает линейный классификатор.\n",
    "\n",
    "Он делает это очень просто: для каждого класса есть набор весов, на которые надо умножить пиксели картинки и сложить. Получившееся число и является оценкой класса, идущей на вход softmax.\n",
    "\n",
    "Таким образом, линейный классификатор можно представить как умножение вектора с пикселями на матрицу W размера `num_features, num_classes`. Такой подход легко расширяется на случай батча векторов с пикселями X размера `batch_size, num_features`:\n",
    "\n",
    "`predictions = X * W`, где `*` - матричное умножение.\n",
    "\n",
    "Реализуйте функцию подсчета линейного классификатора и градиентов по весам `linear_softmax` в файле `linear_classifer.py`"
   ]
  },
  {
   "cell_type": "code",
   "execution_count": 11,
   "metadata": {},
   "outputs": [
    {
     "name": "stdout",
     "output_type": "stream",
     "text": "Gradient check passed!\n"
    },
    {
     "data": {
      "text/plain": "True"
     },
     "execution_count": 11,
     "metadata": {},
     "output_type": "execute_result"
    }
   ],
   "source": [
    "# TODO Implement linear_softmax function that uses softmax with cross-entropy for linear classifier\n",
    "batch_size = 2\n",
    "num_classes = 2\n",
    "num_features = 3\n",
    "np.random.seed(42)\n",
    "W = np.random.randint(-1, 3, size=(num_features, num_classes)).astype(np.float)\n",
    "X = np.random.randint(-1, 3, size=(batch_size, num_features)).astype(np.float)\n",
    "target_index = np.ones(batch_size, dtype=np.int)\n",
    "\n",
    "loss, dW = linear_classifer.linear_softmax(X, W, target_index)\n",
    "check_gradient(lambda w: linear_classifer.linear_softmax(X, w, target_index), W)"
   ]
  },
  {
   "cell_type": "markdown",
   "execution_count": null,
   "metadata": {},
   "outputs": [],
   "source": [
    "### И теперь регуляризация\n",
    "\n",
    "Мы будем использовать L2 regularization для весов как часть общей функции ошибки.\n",
    "\n",
    "Напомним, L2 regularization определяется как\n",
    "\n",
    "l2_reg_loss = regularization_strength * sum<sub>ij</sub> W[i, j]<sup>2</sup>\n",
    "\n",
    "Реализуйте функцию для его вычисления и вычисления соотвествующих градиентов."
   ]
  },
  {
   "cell_type": "code",
   "execution_count": 12,
   "metadata": {},
   "outputs": [
    {
     "name": "stdout",
     "output_type": "stream",
     "text": "Gradient check passed!\n"
    },
    {
     "data": {
      "text/plain": "True"
     },
     "execution_count": 12,
     "metadata": {},
     "output_type": "execute_result"
    }
   ],
   "source": [
    "# TODO Implement l2_regularization function that implements loss for L2 regularization\n",
    "linear_classifer.l2_regularization(W, 0.01)\n",
    "check_gradient(lambda w: linear_classifer.l2_regularization(w, 0.01), W)"
   ]
  },
  {
   "cell_type": "markdown",
   "execution_count": null,
   "metadata": {},
   "outputs": [],
   "source": [
    "# Тренировка!"
   ]
  },
  {
   "cell_type": "markdown",
   "execution_count": null,
   "metadata": {},
   "outputs": [],
   "source": [
    "Градиенты в порядке, реализуем процесс тренировки!"
   ]
  },
  {
   "cell_type": "code",
   "execution_count": 13,
   "metadata": {},
   "outputs": [
    {
     "name": "stdout",
     "output_type": "stream",
     "text": "Epoch 0, loss: 2.397363\nEpoch 1, loss: 2.330354\nEpoch 2, loss: 2.311002\nEpoch 3, loss: 2.303897\nEpoch 4, loss: 2.303257\nEpoch 5, loss: 2.302898\nEpoch 6, loss: 2.302564\nEpoch 7, loss: 2.301815\nEpoch 8, loss: 2.301252\nEpoch 9, loss: 2.301256\n"
    }
   ],
   "source": [
    "# TODO: Implement LinearSoftmaxClassifier.fit function\n",
    "classifier = linear_classifer.LinearSoftmaxClassifier()\n",
    "loss_history = classifier.fit(train_X, train_y, epochs=10, learning_rate=1e-3, batch_size=300, reg=1e1)"
   ]
  },
  {
   "cell_type": "code",
   "execution_count": 14,
   "metadata": {},
   "outputs": [
    {
     "data": {
      "text/plain": "[<matplotlib.lines.Line2D at 0x7f901d402650>]"
     },
     "execution_count": 14,
     "metadata": {},
     "output_type": "execute_result"
    },
    {
     "data": {
      "image/png": "[encoded data removed]",
      "image/svg+xml": "<?xml version=\"1.0\" encoding=\"utf-8\" standalone=\"no\"?>\n<!DOCTYPE svg PUBLIC \"-//W3C//DTD SVG 1.1//EN\"\n  \"http://www.w3.org/Graphics/SVG/1.1/DTD/svg11.dtd\">\n<!-- Created with matplotlib (https://matplotlib.org/) -->\n<svg height=\"252.018125pt\" version=\"1.1\" viewBox=\"0 0 381.965625 252.018125\" width=\"381.965625pt\" xmlns=\"http://www.w3.org/2000/svg\" xmlns:xlink=\"http://www.w3.org/1999/xlink\">\n <defs>\n  <style type=\"text/css\">\n*{stroke-linecap:butt;stroke-linejoin:round;}\n  </style>\n </defs>\n <g id=\"figure_1\">\n  <g id=\"patch_1\">\n   <path d=\"M 0 252.018125 \nL 381.965625 252.018125 \nL 381.965625 0 \nL 0 0 \nz\n\" style=\"fill:none;\"/>\n  </g>\n  <g id=\"axes_1\">\n   <g id=\"patch_2\">\n    <path d=\"M 36.465625 228.14 \nL 371.265625 228.14 \nL 371.265625 10.7 \nL 36.465625 10.7 \nz\n\" style=\"fill:#ffffff;\"/>\n   </g>\n   <g id=\"matplotlib.axis_1\">\n    <g id=\"xtick_1\">\n     <g id=\"line2d_1\">\n      <defs>\n       <path d=\"M 0 0 \nL 0 3.5 \n\" id=\"m461a9606ac\" style=\"stroke:#000000;stroke-width:0.8;\"/>\n      </defs>\n      <g>\n       <use style=\"stroke:#000000;stroke-width:0.8;\" x=\"51.683807\" xlink:href=\"#m461a9606ac\" y=\"228.14\"/>\n      </g>\n     </g>\n     <g id=\"text_1\">\n      <!-- 0 -->\n      <defs>\n       <path d=\"M 31.78125 66.40625 \nQ 24.171875 66.40625 20.328125 58.90625 \nQ 16.5 51.421875 16.5 36.375 \nQ 16.5 21.390625 20.328125 13.890625 \nQ 24.171875 6.390625 31.78125 6.390625 \nQ 39.453125 6.390625 43.28125 13.890625 \nQ 47.125 21.390625 47.125 36.375 \nQ 47.125 51.421875 43.28125 58.90625 \nQ 39.453125 66.40625 31.78125 66.40625 \nz\nM 31.78125 74.21875 \nQ 44.046875 74.21875 50.515625 64.515625 \nQ 56.984375 54.828125 56.984375 36.375 \nQ 56.984375 17.96875 50.515625 8.265625 \nQ 44.046875 -1.421875 31.78125 -1.421875 \nQ 19.53125 -1.421875 13.0625 8.265625 \nQ 6.59375 17.96875 6.59375 36.375 \nQ 6.59375 54.828125 13.0625 64.515625 \nQ 19.53125 74.21875 31.78125 74.21875 \nz\n\" id=\"DejaVuSans-48\"/>\n      </defs>\n      <g transform=\"translate(48.502557 242.738437)scale(0.1 -0.1)\">\n       <use xlink:href=\"#DejaVuSans-48\"/>\n      </g>\n     </g>\n    </g>\n    <g id=\"xtick_2\">\n     <g id=\"line2d_2\">\n      <g>\n       <use style=\"stroke:#000000;stroke-width:0.8;\" x=\"102.580736\" xlink:href=\"#m461a9606ac\" y=\"228.14\"/>\n      </g>\n     </g>\n     <g id=\"text_2\">\n      <!-- 50 -->\n      <defs>\n       <path d=\"M 10.796875 72.90625 \nL 49.515625 72.90625 \nL 49.515625 64.59375 \nL 19.828125 64.59375 \nL 19.828125 46.734375 \nQ 21.96875 47.46875 24.109375 47.828125 \nQ 26.265625 48.1875 28.421875 48.1875 \nQ 40.625 48.1875 47.75 41.5 \nQ 54.890625 34.8125 54.890625 23.390625 \nQ 54.890625 11.625 47.5625 5.09375 \nQ 40.234375 -1.421875 26.90625 -1.421875 \nQ 22.3125 -1.421875 17.546875 -0.640625 \nQ 12.796875 0.140625 7.71875 1.703125 \nL 7.71875 11.625 \nQ 12.109375 9.234375 16.796875 8.0625 \nQ 21.484375 6.890625 26.703125 6.890625 \nQ 35.15625 6.890625 40.078125 11.328125 \nQ 45.015625 15.765625 45.015625 23.390625 \nQ 45.015625 31 40.078125 35.4375 \nQ 35.15625 39.890625 26.703125 39.890625 \nQ 22.75 39.890625 18.8125 39.015625 \nQ 14.890625 38.140625 10.796875 36.28125 \nz\n\" id=\"DejaVuSans-53\"/>\n      </defs>\n      <g transform=\"translate(96.218236 242.738437)scale(0.1 -0.1)\">\n       <use xlink:href=\"#DejaVuSans-53\"/>\n       <use x=\"63.623047\" xlink:href=\"#DejaVuSans-48\"/>\n      </g>\n     </g>\n    </g>\n    <g id=\"xtick_3\">\n     <g id=\"line2d_3\">\n      <g>\n       <use style=\"stroke:#000000;stroke-width:0.8;\" x=\"153.477665\" xlink:href=\"#m461a9606ac\" y=\"228.14\"/>\n      </g>\n     </g>\n     <g id=\"text_3\">\n      <!-- 100 -->\n      <defs>\n       <path d=\"M 12.40625 8.296875 \nL 28.515625 8.296875 \nL 28.515625 63.921875 \nL 10.984375 60.40625 \nL 10.984375 69.390625 \nL 28.421875 72.90625 \nL 38.28125 72.90625 \nL 38.28125 8.296875 \nL 54.390625 8.296875 \nL 54.390625 0 \nL 12.40625 0 \nz\n\" id=\"DejaVuSans-49\"/>\n      </defs>\n      <g transform=\"translate(143.933915 242.738437)scale(0.1 -0.1)\">\n       <use xlink:href=\"#DejaVuSans-49\"/>\n       <use x=\"63.623047\" xlink:href=\"#DejaVuSans-48\"/>\n       <use x=\"127.246094\" xlink:href=\"#DejaVuSans-48\"/>\n      </g>\n     </g>\n    </g>\n    <g id=\"xtick_4\">\n     <g id=\"line2d_4\">\n      <g>\n       <use style=\"stroke:#000000;stroke-width:0.8;\" x=\"204.374594\" xlink:href=\"#m461a9606ac\" y=\"228.14\"/>\n      </g>\n     </g>\n     <g id=\"text_4\">\n      <!-- 150 -->\n      <g transform=\"translate(194.830844 242.738437)scale(0.1 -0.1)\">\n       <use xlink:href=\"#DejaVuSans-49\"/>\n       <use x=\"63.623047\" xlink:href=\"#DejaVuSans-53\"/>\n       <use x=\"127.246094\" xlink:href=\"#DejaVuSans-48\"/>\n      </g>\n     </g>\n    </g>\n    <g id=\"xtick_5\">\n     <g id=\"line2d_5\">\n      <g>\n       <use style=\"stroke:#000000;stroke-width:0.8;\" x=\"255.271523\" xlink:href=\"#m461a9606ac\" y=\"228.14\"/>\n      </g>\n     </g>\n     <g id=\"text_5\">\n      <!-- 200 -->\n      <defs>\n       <path d=\"M 19.1875 8.296875 \nL 53.609375 8.296875 \nL 53.609375 0 \nL 7.328125 0 \nL 7.328125 8.296875 \nQ 12.9375 14.109375 22.625 23.890625 \nQ 32.328125 33.6875 34.8125 36.53125 \nQ 39.546875 41.84375 41.421875 45.53125 \nQ 43.3125 49.21875 43.3125 52.78125 \nQ 43.3125 58.59375 39.234375 62.25 \nQ 35.15625 65.921875 28.609375 65.921875 \nQ 23.96875 65.921875 18.8125 64.3125 \nQ 13.671875 62.703125 7.8125 59.421875 \nL 7.8125 69.390625 \nQ 13.765625 71.78125 18.9375 73 \nQ 24.125 74.21875 28.421875 74.21875 \nQ 39.75 74.21875 46.484375 68.546875 \nQ 53.21875 62.890625 53.21875 53.421875 \nQ 53.21875 48.921875 51.53125 44.890625 \nQ 49.859375 40.875 45.40625 35.40625 \nQ 44.1875 33.984375 37.640625 27.21875 \nQ 31.109375 20.453125 19.1875 8.296875 \nz\n\" id=\"DejaVuSans-50\"/>\n      </defs>\n      <g transform=\"translate(245.727773 242.738437)scale(0.1 -0.1)\">\n       <use xlink:href=\"#DejaVuSans-50\"/>\n       <use x=\"63.623047\" xlink:href=\"#DejaVuSans-48\"/>\n       <use x=\"127.246094\" xlink:href=\"#DejaVuSans-48\"/>\n      </g>\n     </g>\n    </g>\n    <g id=\"xtick_6\">\n     <g id=\"line2d_6\">\n      <g>\n       <use style=\"stroke:#000000;stroke-width:0.8;\" x=\"306.168453\" xlink:href=\"#m461a9606ac\" y=\"228.14\"/>\n      </g>\n     </g>\n     <g id=\"text_6\">\n      <!-- 250 -->\n      <g transform=\"translate(296.624703 242.738437)scale(0.1 -0.1)\">\n       <use xlink:href=\"#DejaVuSans-50\"/>\n       <use x=\"63.623047\" xlink:href=\"#DejaVuSans-53\"/>\n       <use x=\"127.246094\" xlink:href=\"#DejaVuSans-48\"/>\n      </g>\n     </g>\n    </g>\n    <g id=\"xtick_7\">\n     <g id=\"line2d_7\">\n      <g>\n       <use style=\"stroke:#000000;stroke-width:0.8;\" x=\"357.065382\" xlink:href=\"#m461a9606ac\" y=\"228.14\"/>\n      </g>\n     </g>\n     <g id=\"text_7\">\n      <!-- 300 -->\n      <defs>\n       <path d=\"M 40.578125 39.3125 \nQ 47.65625 37.796875 51.625 33 \nQ 55.609375 28.21875 55.609375 21.1875 \nQ 55.609375 10.40625 48.1875 4.484375 \nQ 40.765625 -1.421875 27.09375 -1.421875 \nQ 22.515625 -1.421875 17.65625 -0.515625 \nQ 12.796875 0.390625 7.625 2.203125 \nL 7.625 11.71875 \nQ 11.71875 9.328125 16.59375 8.109375 \nQ 21.484375 6.890625 26.8125 6.890625 \nQ 36.078125 6.890625 40.9375 10.546875 \nQ 45.796875 14.203125 45.796875 21.1875 \nQ 45.796875 27.640625 41.28125 31.265625 \nQ 36.765625 34.90625 28.71875 34.90625 \nL 20.21875 34.90625 \nL 20.21875 43.015625 \nL 29.109375 43.015625 \nQ 36.375 43.015625 40.234375 45.921875 \nQ 44.09375 48.828125 44.09375 54.296875 \nQ 44.09375 59.90625 40.109375 62.90625 \nQ 36.140625 65.921875 28.71875 65.921875 \nQ 24.65625 65.921875 20.015625 65.03125 \nQ 15.375 64.15625 9.8125 62.3125 \nL 9.8125 71.09375 \nQ 15.4375 72.65625 20.34375 73.4375 \nQ 25.25 74.21875 29.59375 74.21875 \nQ 40.828125 74.21875 47.359375 69.109375 \nQ 53.90625 64.015625 53.90625 55.328125 \nQ 53.90625 49.265625 50.4375 45.09375 \nQ 46.96875 40.921875 40.578125 39.3125 \nz\n\" id=\"DejaVuSans-51\"/>\n      </defs>\n      <g transform=\"translate(347.521632 242.738437)scale(0.1 -0.1)\">\n       <use xlink:href=\"#DejaVuSans-51\"/>\n       <use x=\"63.623047\" xlink:href=\"#DejaVuSans-48\"/>\n       <use x=\"127.246094\" xlink:href=\"#DejaVuSans-48\"/>\n      </g>\n     </g>\n    </g>\n   </g>\n   <g id=\"matplotlib.axis_2\">\n    <g id=\"ytick_1\">\n     <g id=\"line2d_8\">\n      <defs>\n       <path d=\"M 0 0 \nL -3.5 0 \n\" id=\"m6b970b9468\" style=\"stroke:#000000;stroke-width:0.8;\"/>\n      </defs>\n      <g>\n       <use style=\"stroke:#000000;stroke-width:0.8;\" x=\"36.465625\" xlink:href=\"#m6b970b9468\" y=\"218.694996\"/>\n      </g>\n     </g>\n     <g id=\"text_8\">\n      <!-- 2.30 -->\n      <defs>\n       <path d=\"M 10.6875 12.40625 \nL 21 12.40625 \nL 21 0 \nL 10.6875 0 \nz\n\" id=\"DejaVuSans-46\"/>\n      </defs>\n      <g transform=\"translate(7.2 222.494215)scale(0.1 -0.1)\">\n       <use xlink:href=\"#DejaVuSans-50\"/>\n       <use x=\"63.623047\" xlink:href=\"#DejaVuSans-46\"/>\n       <use x=\"95.410156\" xlink:href=\"#DejaVuSans-51\"/>\n       <use x=\"159.033203\" xlink:href=\"#DejaVuSans-48\"/>\n      </g>\n     </g>\n    </g>\n    <g id=\"ytick_2\">\n     <g id=\"line2d_9\">\n      <g>\n       <use style=\"stroke:#000000;stroke-width:0.8;\" x=\"36.465625\" xlink:href=\"#m6b970b9468\" y=\"186.700631\"/>\n      </g>\n     </g>\n     <g id=\"text_9\">\n      <!-- 2.35 -->\n      <g transform=\"translate(7.2 190.49985)scale(0.1 -0.1)\">\n       <use xlink:href=\"#DejaVuSans-50\"/>\n       <use x=\"63.623047\" xlink:href=\"#DejaVuSans-46\"/>\n       <use x=\"95.410156\" xlink:href=\"#DejaVuSans-51\"/>\n       <use x=\"159.033203\" xlink:href=\"#DejaVuSans-53\"/>\n      </g>\n     </g>\n    </g>\n    <g id=\"ytick_3\">\n     <g id=\"line2d_10\">\n      <g>\n       <use style=\"stroke:#000000;stroke-width:0.8;\" x=\"36.465625\" xlink:href=\"#m6b970b9468\" y=\"154.706266\"/>\n      </g>\n     </g>\n     <g id=\"text_10\">\n      <!-- 2.40 -->\n      <defs>\n       <path d=\"M 37.796875 64.3125 \nL 12.890625 25.390625 \nL 37.796875 25.390625 \nz\nM 35.203125 72.90625 \nL 47.609375 72.90625 \nL 47.609375 25.390625 \nL 58.015625 25.390625 \nL 58.015625 17.1875 \nL 47.609375 17.1875 \nL 47.609375 0 \nL 37.796875 0 \nL 37.796875 17.1875 \nL 4.890625 17.1875 \nL 4.890625 26.703125 \nz\n\" id=\"DejaVuSans-52\"/>\n      </defs>\n      <g transform=\"translate(7.2 158.505485)scale(0.1 -0.1)\">\n       <use xlink:href=\"#DejaVuSans-50\"/>\n       <use x=\"63.623047\" xlink:href=\"#DejaVuSans-46\"/>\n       <use x=\"95.410156\" xlink:href=\"#DejaVuSans-52\"/>\n       <use x=\"159.033203\" xlink:href=\"#DejaVuSans-48\"/>\n      </g>\n     </g>\n    </g>\n    <g id=\"ytick_4\">\n     <g id=\"line2d_11\">\n      <g>\n       <use style=\"stroke:#000000;stroke-width:0.8;\" x=\"36.465625\" xlink:href=\"#m6b970b9468\" y=\"122.711901\"/>\n      </g>\n     </g>\n     <g id=\"text_11\">\n      <!-- 2.45 -->\n      <g transform=\"translate(7.2 126.51112)scale(0.1 -0.1)\">\n       <use xlink:href=\"#DejaVuSans-50\"/>\n       <use x=\"63.623047\" xlink:href=\"#DejaVuSans-46\"/>\n       <use x=\"95.410156\" xlink:href=\"#DejaVuSans-52\"/>\n       <use x=\"159.033203\" xlink:href=\"#DejaVuSans-53\"/>\n      </g>\n     </g>\n    </g>\n    <g id=\"ytick_5\">\n     <g id=\"line2d_12\">\n      <g>\n       <use style=\"stroke:#000000;stroke-width:0.8;\" x=\"36.465625\" xlink:href=\"#m6b970b9468\" y=\"90.717536\"/>\n      </g>\n     </g>\n     <g id=\"text_12\">\n      <!-- 2.50 -->\n      <g transform=\"translate(7.2 94.516755)scale(0.1 -0.1)\">\n       <use xlink:href=\"#DejaVuSans-50\"/>\n       <use x=\"63.623047\" xlink:href=\"#DejaVuSans-46\"/>\n       <use x=\"95.410156\" xlink:href=\"#DejaVuSans-53\"/>\n       <use x=\"159.033203\" xlink:href=\"#DejaVuSans-48\"/>\n      </g>\n     </g>\n    </g>\n    <g id=\"ytick_6\">\n     <g id=\"line2d_13\">\n      <g>\n       <use style=\"stroke:#000000;stroke-width:0.8;\" x=\"36.465625\" xlink:href=\"#m6b970b9468\" y=\"58.723171\"/>\n      </g>\n     </g>\n     <g id=\"text_13\">\n      <!-- 2.55 -->\n      <g transform=\"translate(7.2 62.52239)scale(0.1 -0.1)\">\n       <use xlink:href=\"#DejaVuSans-50\"/>\n       <use x=\"63.623047\" xlink:href=\"#DejaVuSans-46\"/>\n       <use x=\"95.410156\" xlink:href=\"#DejaVuSans-53\"/>\n       <use x=\"159.033203\" xlink:href=\"#DejaVuSans-53\"/>\n      </g>\n     </g>\n    </g>\n    <g id=\"ytick_7\">\n     <g id=\"line2d_14\">\n      <g>\n       <use style=\"stroke:#000000;stroke-width:0.8;\" x=\"36.465625\" xlink:href=\"#m6b970b9468\" y=\"26.728806\"/>\n      </g>\n     </g>\n     <g id=\"text_14\">\n      <!-- 2.60 -->\n      <defs>\n       <path d=\"M 33.015625 40.375 \nQ 26.375 40.375 22.484375 35.828125 \nQ 18.609375 31.296875 18.609375 23.390625 \nQ 18.609375 15.53125 22.484375 10.953125 \nQ 26.375 6.390625 33.015625 6.390625 \nQ 39.65625 6.390625 43.53125 10.953125 \nQ 47.40625 15.53125 47.40625 23.390625 \nQ 47.40625 31.296875 43.53125 35.828125 \nQ 39.65625 40.375 33.015625 40.375 \nz\nM 52.59375 71.296875 \nL 52.59375 62.3125 \nQ 48.875 64.0625 45.09375 64.984375 \nQ 41.3125 65.921875 37.59375 65.921875 \nQ 27.828125 65.921875 22.671875 59.328125 \nQ 17.53125 52.734375 16.796875 39.40625 \nQ 19.671875 43.65625 24.015625 45.921875 \nQ 28.375 48.1875 33.59375 48.1875 \nQ 44.578125 48.1875 50.953125 41.515625 \nQ 57.328125 34.859375 57.328125 23.390625 \nQ 57.328125 12.15625 50.6875 5.359375 \nQ 44.046875 -1.421875 33.015625 -1.421875 \nQ 20.359375 -1.421875 13.671875 8.265625 \nQ 6.984375 17.96875 6.984375 36.375 \nQ 6.984375 53.65625 15.1875 63.9375 \nQ 23.390625 74.21875 37.203125 74.21875 \nQ 40.921875 74.21875 44.703125 73.484375 \nQ 48.484375 72.75 52.59375 71.296875 \nz\n\" id=\"DejaVuSans-54\"/>\n      </defs>\n      <g transform=\"translate(7.2 30.528025)scale(0.1 -0.1)\">\n       <use xlink:href=\"#DejaVuSans-50\"/>\n       <use x=\"63.623047\" xlink:href=\"#DejaVuSans-46\"/>\n       <use x=\"95.410156\" xlink:href=\"#DejaVuSans-54\"/>\n       <use x=\"159.033203\" xlink:href=\"#DejaVuSans-48\"/>\n      </g>\n     </g>\n    </g>\n   </g>\n   <g id=\"line2d_15\">\n    <path clip-path=\"url(#p592b8215f4)\" d=\"M 51.683807 20.583636 \nL 53.719684 35.810615 \nL 57.791438 62.756558 \nL 58.809377 68.980413 \nL 59.827315 74.451864 \nL 60.845254 81.024141 \nL 61.863193 85.67846 \nL 62.881131 91.553218 \nL 65.934947 105.26366 \nL 66.952886 109.35391 \nL 68.988763 118.292645 \nL 74.078456 136.61725 \nL 76.114333 142.687259 \nL 78.15021 148.895765 \nL 79.168149 150.935352 \nL 80.186087 154.116141 \nL 81.204026 156.393743 \nL 82.221964 159.09261 \nL 83.239903 161.127574 \nL 85.27578 166.400183 \nL 86.293719 167.805832 \nL 88.329596 171.806078 \nL 89.347534 173.028957 \nL 91.383412 176.875087 \nL 92.40135 178.114705 \nL 93.419289 179.728148 \nL 94.437227 180.69973 \nL 95.455166 183.223067 \nL 96.473104 183.990762 \nL 97.491043 185.192017 \nL 99.52692 188.281819 \nL 100.544859 189.105609 \nL 103.598675 192.773825 \nL 105.634552 193.883757 \nL 106.65249 195.639374 \nL 107.670429 195.779872 \nL 108.688367 196.543414 \nL 109.706306 197.751044 \nL 110.724245 198.225641 \nL 112.760122 200.362822 \nL 113.77806 200.775136 \nL 114.795999 202.010452 \nL 115.813938 202.096775 \nL 118.867753 203.82133 \nL 119.885692 204.590666 \nL 120.90363 205.112685 \nL 121.921569 204.843291 \nL 122.939508 206.195991 \nL 123.957446 206.336678 \nL 124.975385 206.688183 \nL 125.993323 207.281702 \nL 127.011262 207.601641 \nL 128.029201 207.716985 \nL 129.047139 208.071677 \nL 130.065078 208.261481 \nL 131.083016 209.001821 \nL 132.100955 209.42304 \nL 133.118893 209.597041 \nL 134.136832 210.481648 \nL 135.154771 210.266741 \nL 136.172709 210.469866 \nL 137.190648 211.183968 \nL 138.208586 211.290019 \nL 140.244464 211.322432 \nL 141.262402 212.035877 \nL 142.280341 211.655033 \nL 143.298279 211.944288 \nL 144.316218 212.651372 \nL 145.334156 212.544088 \nL 146.352095 212.87832 \nL 147.370034 213.589519 \nL 150.423849 213.556126 \nL 151.441788 214.226919 \nL 152.459727 214.285491 \nL 153.477665 213.737599 \nL 154.495604 213.727617 \nL 155.513542 214.513147 \nL 157.549419 214.315041 \nL 159.585297 214.826607 \nL 160.603235 214.683856 \nL 161.621174 215.34968 \nL 162.639112 215.415486 \nL 163.657051 214.938195 \nL 164.67499 215.398347 \nL 165.692928 215.650542 \nL 166.710867 214.988743 \nL 167.728805 215.209393 \nL 168.746744 215.77842 \nL 169.764682 215.842295 \nL 170.782621 215.747162 \nL 171.80056 215.508907 \nL 172.818498 216.201503 \nL 173.836437 216.363565 \nL 174.854375 215.843425 \nL 175.872314 215.718524 \nL 176.890253 216.101791 \nL 177.908191 215.908407 \nL 179.944068 216.801622 \nL 180.962007 216.344805 \nL 181.979945 216.66942 \nL 182.997884 216.151768 \nL 184.015823 216.81538 \nL 185.033761 216.534124 \nL 186.0517 216.454568 \nL 187.069638 215.824979 \nL 188.087577 215.994057 \nL 189.105516 216.609712 \nL 190.123454 216.600732 \nL 191.141393 217.186832 \nL 192.159331 217.641695 \nL 193.17727 216.906408 \nL 194.195208 216.457042 \nL 196.231086 216.226171 \nL 197.249024 217.205314 \nL 198.266963 216.758268 \nL 199.284901 216.900302 \nL 200.30284 217.860393 \nL 202.338717 216.969837 \nL 203.356656 216.610655 \nL 204.374594 217.556279 \nL 205.392533 216.726385 \nL 206.410471 217.402229 \nL 207.42841 217.343972 \nL 208.446349 217.078388 \nL 209.464287 217.215887 \nL 211.500164 216.874509 \nL 213.536042 217.563295 \nL 214.55398 216.282379 \nL 215.571919 217.153668 \nL 216.589857 217.238835 \nL 217.607796 217.198809 \nL 218.625734 217.278618 \nL 219.643673 217.491257 \nL 220.661612 217.373003 \nL 221.67955 216.618402 \nL 222.697489 216.858593 \nL 223.715427 216.698501 \nL 224.733366 217.463943 \nL 226.769243 217.535069 \nL 227.787182 217.110527 \nL 228.80512 217.478623 \nL 229.823059 217.721164 \nL 230.840997 217.784355 \nL 231.858936 217.187587 \nL 232.876875 217.791012 \nL 233.894813 216.840461 \nL 234.912752 217.427962 \nL 235.93069 217.874196 \nL 236.948629 217.699287 \nL 237.966568 217.8004 \nL 238.984506 217.243297 \nL 240.002445 217.002933 \nL 241.020383 217.491535 \nL 243.05626 217.385797 \nL 245.092138 217.124604 \nL 246.110076 217.460275 \nL 247.128015 218.033622 \nL 248.145953 217.007185 \nL 249.163892 217.349693 \nL 251.199769 217.70556 \nL 252.217708 217.466712 \nL 253.235646 217.743952 \nL 254.253585 217.451457 \nL 255.271523 216.871338 \nL 256.289462 217.226728 \nL 257.307401 217.414888 \nL 258.325339 217.285935 \nL 259.343278 217.648904 \nL 260.361216 217.732774 \nL 261.379155 217.171111 \nL 262.397094 217.05349 \nL 263.415032 217.73334 \nL 264.432971 217.054501 \nL 265.450909 217.598479 \nL 266.468848 217.792085 \nL 267.486786 217.449925 \nL 268.504725 217.255629 \nL 269.522664 217.376031 \nL 270.540602 217.739412 \nL 271.558541 217.129036 \nL 272.576479 217.582495 \nL 273.594418 217.349777 \nL 274.612357 217.290064 \nL 275.630295 218.256364 \nL 276.648234 217.690606 \nL 277.666172 216.843859 \nL 278.684111 217.194749 \nL 279.702049 218.038847 \nL 280.719988 217.328223 \nL 282.755865 217.456955 \nL 283.773804 217.870648 \nL 284.791742 217.042275 \nL 285.809681 217.785095 \nL 286.82762 217.310365 \nL 287.845558 217.274413 \nL 288.863497 218.084175 \nL 289.881435 217.361217 \nL 290.899374 217.135182 \nL 291.917312 217.171015 \nL 292.935251 217.572264 \nL 294.971128 217.533665 \nL 295.989067 217.747495 \nL 297.007005 217.503833 \nL 299.042883 217.681355 \nL 301.07876 217.948638 \nL 304.132575 217.271189 \nL 305.150514 218.060746 \nL 306.168453 216.565169 \nL 307.186391 218.046201 \nL 308.20433 217.589233 \nL 309.222268 216.862895 \nL 310.240207 217.738496 \nL 311.258146 217.521811 \nL 312.276084 217.736898 \nL 313.294023 217.298457 \nL 314.311961 217.952238 \nL 315.3299 217.64034 \nL 316.347838 217.136917 \nL 318.383716 216.940992 \nL 319.401654 217.185785 \nL 320.419593 217.553632 \nL 321.437531 217.103939 \nL 322.45547 217.070442 \nL 323.473409 217.266342 \nL 324.491347 217.702431 \nL 325.509286 217.893604 \nL 326.527224 217.232948 \nL 327.545163 217.482683 \nL 328.563101 218.121689 \nL 329.58104 217.917505 \nL 330.598979 216.513501 \nL 331.616917 217.78264 \nL 332.634856 217.295139 \nL 333.652794 217.465613 \nL 334.670733 217.986147 \nL 335.688672 216.83745 \nL 336.70661 217.673918 \nL 337.724549 217.138366 \nL 338.742487 217.358949 \nL 339.760426 217.155415 \nL 341.796303 217.837504 \nL 342.814242 217.392733 \nL 343.83218 217.337114 \nL 344.850119 217.13521 \nL 345.868057 217.714501 \nL 348.921873 217.840228 \nL 349.939812 217.509258 \nL 350.95775 217.815064 \nL 352.993627 217.54744 \nL 354.011566 217.304807 \nL 355.029505 217.227648 \nL 356.047443 217.891404 \nL 356.047443 217.891404 \n\" style=\"fill:none;stroke:#1f77b4;stroke-linecap:square;stroke-width:1.5;\"/>\n   </g>\n   <g id=\"patch_3\">\n    <path d=\"M 36.465625 228.14 \nL 36.465625 10.7 \n\" style=\"fill:none;stroke:#000000;stroke-linecap:square;stroke-linejoin:miter;stroke-width:0.8;\"/>\n   </g>\n   <g id=\"patch_4\">\n    <path d=\"M 371.265625 228.14 \nL 371.265625 10.7 \n\" style=\"fill:none;stroke:#000000;stroke-linecap:square;stroke-linejoin:miter;stroke-width:0.8;\"/>\n   </g>\n   <g id=\"patch_5\">\n    <path d=\"M 36.465625 228.14 \nL 371.265625 228.14 \n\" style=\"fill:none;stroke:#000000;stroke-linecap:square;stroke-linejoin:miter;stroke-width:0.8;\"/>\n   </g>\n   <g id=\"patch_6\">\n    <path d=\"M 36.465625 10.7 \nL 371.265625 10.7 \n\" style=\"fill:none;stroke:#000000;stroke-linecap:square;stroke-linejoin:miter;stroke-width:0.8;\"/>\n   </g>\n  </g>\n </g>\n <defs>\n  <clipPath id=\"p592b8215f4\">\n   <rect height=\"217.44\" width=\"334.8\" x=\"36.465625\" y=\"10.7\"/>\n  </clipPath>\n </defs>\n</svg>\n",
      "text/plain": "<Figure size 432x288 with 1 Axes>"
     },
     "metadata": {
      "needs_background": "light"
     },
     "output_type": "display_data"
    }
   ],
   "source": [
    "# let's look at the loss history!\n",
    "plt.plot(loss_history)"
   ]
  },
  {
   "cell_type": "code",
   "execution_count": 15,
   "metadata": {},
   "outputs": [
    {
     "name": "stdout",
     "output_type": "stream",
     "text": "Accuracy:  0.127\nEpoch 0, loss: 2.301800\nEpoch 1, loss: 2.302558\nEpoch 2, loss: 2.302208\nEpoch 3, loss: 2.303309\nEpoch 4, loss: 2.302126\nEpoch 5, loss: 2.301524\nEpoch 6, loss: 2.301150\nEpoch 7, loss: 2.301359\nEpoch 8, loss: 2.302305\nEpoch 9, loss: 2.302205\nEpoch 10, loss: 2.301595\nEpoch 11, loss: 2.302039\nEpoch 12, loss: 2.301247\nEpoch 13, loss: 2.301836\nEpoch 14, loss: 2.302396\nEpoch 15, loss: 2.302299\nEpoch 16, loss: 2.301161\nEpoch 17, loss: 2.302058\nEpoch 18, loss: 2.302180\nEpoch 19, loss: 2.302339\nEpoch 20, loss: 2.302694\nEpoch 21, loss: 2.301872\nEpoch 22, loss: 2.302261\nEpoch 23, loss: 2.302209\nEpoch 24, loss: 2.302215\nEpoch 25, loss: 2.301591\nEpoch 26, loss: 2.301535\nEpoch 27, loss: 2.302557\nEpoch 28, loss: 2.301689\nEpoch 29, loss: 2.301815\nEpoch 30, loss: 2.301483\nEpoch 31, loss: 2.301553\nEpoch 32, loss: 2.301640\nEpoch 33, loss: 2.301991\nEpoch 34, loss: 2.302104\nEpoch 35, loss: 2.301741\nEpoch 36, loss: 2.302652\nEpoch 37, loss: 2.303017\nEpoch 38, loss: 2.301521\nEpoch 39, loss: 2.301504\nEpoch 40, loss: 2.301565\nEpoch 41, loss: 2.302361\nEpoch 42, loss: 2.302223\nEpoch 43, loss: 2.302385\nEpoch 44, loss: 2.302532\nEpoch 45, loss: 2.301950\nEpoch 46, loss: 2.301686\nEpoch 47, loss: 2.301881\nEpoch 48, loss: 2.302291\nEpoch 49, loss: 2.302069\nEpoch 50, loss: 2.301971\nEpoch 51, loss: 2.302533\nEpoch 52, loss: 2.302043\nEpoch 53, loss: 2.302003\nEpoch 54, loss: 2.301729\nEpoch 55, loss: 2.301272\nEpoch 56, loss: 2.302220\nEpoch 57, loss: 2.301765\nEpoch 58, loss: 2.301959\nEpoch 59, loss: 2.302229\nEpoch 60, loss: 2.301372\nEpoch 61, loss: 2.302540\nEpoch 62, loss: 2.301929\nEpoch 63, loss: 2.301502\nEpoch 64, loss: 2.302201\nEpoch 65, loss: 2.302674\nEpoch 66, loss: 2.302191\nEpoch 67, loss: 2.302989\nEpoch 68, loss: 2.301388\nEpoch 69, loss: 2.301621\nEpoch 70, loss: 2.301533\nEpoch 71, loss: 2.302804\nEpoch 72, loss: 2.301514\nEpoch 73, loss: 2.300962\nEpoch 74, loss: 2.302366\nEpoch 75, loss: 2.301895\nEpoch 76, loss: 2.301768\nEpoch 77, loss: 2.302649\nEpoch 78, loss: 2.302394\nEpoch 79, loss: 2.301415\nEpoch 80, loss: 2.302148\nEpoch 81, loss: 2.302263\nEpoch 82, loss: 2.301172\nEpoch 83, loss: 2.302803\nEpoch 84, loss: 2.301892\nEpoch 85, loss: 2.302788\nEpoch 86, loss: 2.302016\nEpoch 87, loss: 2.302450\nEpoch 88, loss: 2.302002\nEpoch 89, loss: 2.302363\nEpoch 90, loss: 2.301257\nEpoch 91, loss: 2.302553\nEpoch 92, loss: 2.301951\nEpoch 93, loss: 2.300910\nEpoch 94, loss: 2.302318\nEpoch 95, loss: 2.301563\nEpoch 96, loss: 2.302494\nEpoch 97, loss: 2.301579\nEpoch 98, loss: 2.302468\nEpoch 99, loss: 2.302352\nAccuracy after training for 100 epochs:  0.121\n"
    }
   ],
   "source": [
    "# Let's check how it performs on validation set\n",
    "pred = classifier.predict(val_X)\n",
    "accuracy = multiclass_accuracy(pred, val_y)\n",
    "print(\"Accuracy: \", accuracy)\n",
    "\n",
    "# Now, let's train more and see if it performs better\n",
    "classifier.fit(train_X, train_y, epochs=100, learning_rate=1e-3, batch_size=300, reg=1e1)\n",
    "pred = classifier.predict(val_X)\n",
    "accuracy = multiclass_accuracy(pred, val_y)\n",
    "print(\"Accuracy after training for 100 epochs: \", accuracy)"
   ]
  },
  {
   "cell_type": "markdown",
   "execution_count": null,
   "metadata": {},
   "outputs": [],
   "source": [
    "### Как и раньше, используем кросс-валидацию для подбора гиперпараметтов.\n",
    "\n",
    "В этот раз, чтобы тренировка занимала разумное время, мы будем использовать только одно разделение на тренировочные (training) и проверочные (validation) данные.\n",
    "\n",
    "Теперь нам нужно подобрать не один, а два гиперпараметра! Не ограничивайте себя изначальными значениями в коде.  \n",
    "Добейтесь точности более чем **20%** на проверочных данных (validation data)."
   ]
  },
  {
   "cell_type": "code",
   "execution_count": 16,
   "metadata": {},
   "outputs": [
    {
     "name": "stdout",
     "output_type": "stream",
     "text": ": 2.298404\nEpoch 17, loss: 2.295113\nEpoch 18, loss: 2.298198\nEpoch 19, loss: 2.296433\nEpoch 20, loss: 2.294091\nEpoch 21, loss: 2.293293\nEpoch 22, loss: 2.293916\nEpoch 23, loss: 2.297198\nEpoch 24, loss: 2.291342\nEpoch 25, loss: 2.291378\nEpoch 26, loss: 2.295471\nEpoch 27, loss: 2.293313\nEpoch 28, loss: 2.295971\nEpoch 29, loss: 2.291198\nEpoch 30, loss: 2.301557\nEpoch 31, loss: 2.295397\nEpoch 32, loss: 2.288542\nEpoch 33, loss: 2.291382\nEpoch 34, loss: 2.296362\nEpoch 35, loss: 2.287301\nEpoch 36, loss: 2.299434\nEpoch 37, loss: 2.297259\nEpoch 38, loss: 2.292548\nEpoch 39, loss: 2.286122\nEpoch 40, loss: 2.291498\nEpoch 41, loss: 2.293199\nEpoch 42, loss: 2.296143\nEpoch 43, loss: 2.285669\nEpoch 44, loss: 2.291369\nEpoch 45, loss: 2.285964\nEpoch 46, loss: 2.290406\nEpoch 47, loss: 2.290631\nEpoch 48, loss: 2.289243\nEpoch 49, loss: 2.287974\nEpoch 50, loss: 2.288600\nEpoch 51, loss: 2.285243\nEpoch 52, loss: 2.287921\nEpoch 53, loss: 2.279406\nEpoch 54, loss: 2.291242\nEpoch 55, loss: 2.294940\nEpoch 56, loss: 2.280625\nEpoch 57, loss: 2.290651\nEpoch 58, loss: 2.292450\nEpoch 59, loss: 2.285507\nEpoch 60, loss: 2.281583\nEpoch 61, loss: 2.285401\nEpoch 62, loss: 2.281084\nEpoch 63, loss: 2.291823\nEpoch 64, loss: 2.282252\nEpoch 65, loss: 2.297867\nEpoch 66, loss: 2.284728\nEpoch 67, loss: 2.294856\nEpoch 68, loss: 2.282759\nEpoch 69, loss: 2.291196\nEpoch 70, loss: 2.282105\nEpoch 71, loss: 2.289808\nEpoch 72, loss: 2.288259\nEpoch 73, loss: 2.292920\nEpoch 74, loss: 2.285935\nEpoch 75, loss: 2.281538\nEpoch 76, loss: 2.280521\nEpoch 77, loss: 2.281143\nEpoch 78, loss: 2.283179\nEpoch 79, loss: 2.283888\nEpoch 80, loss: 2.285656\nEpoch 81, loss: 2.287881\nEpoch 82, loss: 2.280909\nEpoch 83, loss: 2.278346\nEpoch 84, loss: 2.286080\nEpoch 85, loss: 2.290178\nEpoch 86, loss: 2.283240\nEpoch 87, loss: 2.273173\nEpoch 88, loss: 2.274237\nEpoch 89, loss: 2.274987\nEpoch 90, loss: 2.280425\nEpoch 91, loss: 2.277242\nEpoch 92, loss: 2.277454\nEpoch 93, loss: 2.275895\nEpoch 94, loss: 2.273429\nEpoch 95, loss: 2.285831\nEpoch 96, loss: 2.282477\nEpoch 97, loss: 2.283489\nEpoch 98, loss: 2.281271\nEpoch 99, loss: 2.277064\nEpoch 100, loss: 2.283662\nEpoch 101, loss: 2.281174\nEpoch 102, loss: 2.273368\nEpoch 103, loss: 2.272985\nEpoch 104, loss: 2.280301\nEpoch 105, loss: 2.254549\nEpoch 106, loss: 2.285422\nEpoch 107, loss: 2.275566\nEpoch 108, loss: 2.287708\nEpoch 109, loss: 2.274590\nEpoch 110, loss: 2.268569\nEpoch 111, loss: 2.275196\nEpoch 112, loss: 2.277215\nEpoch 113, loss: 2.273922\nEpoch 114, loss: 2.271410\nEpoch 115, loss: 2.278562\nEpoch 116, loss: 2.271551\nEpoch 117, loss: 2.282427\nEpoch 118, loss: 2.283607\nEpoch 119, loss: 2.285798\nEpoch 120, loss: 2.286569\nEpoch 121, loss: 2.266292\nEpoch 122, loss: 2.266088\nEpoch 123, loss: 2.269366\nEpoch 124, loss: 2.283791\nEpoch 125, loss: 2.276108\nEpoch 126, loss: 2.266875\nEpoch 127, loss: 2.277881\nEpoch 128, loss: 2.276043\nEpoch 129, loss: 2.262558\nEpoch 130, loss: 2.258413\nEpoch 131, loss: 2.260011\nEpoch 132, loss: 2.267631\nEpoch 133, loss: 2.258997\nEpoch 134, loss: 2.268453\nEpoch 135, loss: 2.264825\nEpoch 136, loss: 2.277763\nEpoch 137, loss: 2.260288\nEpoch 138, loss: 2.267881\nEpoch 139, loss: 2.272624\nEpoch 140, loss: 2.273293\nEpoch 141, loss: 2.264442\nEpoch 142, loss: 2.258362\nEpoch 143, loss: 2.271100\nEpoch 144, loss: 2.266287\nEpoch 145, loss: 2.273797\nEpoch 146, loss: 2.276600\nEpoch 147, loss: 2.265246\nEpoch 148, loss: 2.264683\nEpoch 149, loss: 2.273361\nEpoch 150, loss: 2.267446\nEpoch 151, loss: 2.262716\nEpoch 152, loss: 2.263499\nEpoch 153, loss: 2.262610\nEpoch 154, loss: 2.268112\nEpoch 155, loss: 2.255830\nEpoch 156, loss: 2.270029\nEpoch 157, loss: 2.267948\nEpoch 158, loss: 2.270720\nEpoch 159, loss: 2.266309\nEpoch 160, loss: 2.273166\nEpoch 161, loss: 2.281505\nEpoch 162, loss: 2.271744\nEpoch 163, loss: 2.263051\nEpoch 164, loss: 2.261197\nEpoch 165, loss: 2.271760\nEpoch 166, loss: 2.258114\nEpoch 167, loss: 2.263564\nEpoch 168, loss: 2.254458\nEpoch 169, loss: 2.240226\nEpoch 170, loss: 2.271641\nEpoch 171, loss: 2.254415\nEpoch 172, loss: 2.267361\nEpoch 173, loss: 2.261731\nEpoch 174, loss: 2.258458\nEpoch 175, loss: 2.263912\nEpoch 176, loss: 2.254572\nEpoch 177, loss: 2.274992\nEpoch 178, loss: 2.266455\nEpoch 179, loss: 2.273508\nEpoch 180, loss: 2.257168\nEpoch 181, loss: 2.251669\nEpoch 182, loss: 2.264224\nEpoch 183, loss: 2.273034\nEpoch 184, loss: 2.263209\nEpoch 185, loss: 2.271365\nEpoch 186, loss: 2.239012\nEpoch 187, loss: 2.260647\nEpoch 188, loss: 2.253412\nEpoch 189, loss: 2.249412\nEpoch 190, loss: 2.285550\nEpoch 191, loss: 2.246835\nEpoch 192, loss: 2.255948\nEpoch 193, loss: 2.250619\nEpoch 194, loss: 2.268590\nEpoch 195, loss: 2.249688\nEpoch 196, loss: 2.261238\nEpoch 197, loss: 2.266485\nEpoch 198, loss: 2.279781\nEpoch 199, loss: 2.264775\nEpoch 0, loss: 2.300634\nEpoch 1, loss: 2.303034\nEpoch 2, loss: 2.301362\nEpoch 3, loss: 2.302970\nEpoch 4, loss: 2.302196\nEpoch 5, loss: 2.303405\nEpoch 6, loss: 2.301890\nEpoch 7, loss: 2.302232\nEpoch 8, loss: 2.304218\nEpoch 9, loss: 2.300657\nEpoch 10, loss: 2.301219\nEpoch 11, loss: 2.302275\nEpoch 12, loss: 2.302269\nEpoch 13, loss: 2.303472\nEpoch 14, loss: 2.303650\nEpoch 15, loss: 2.300744\nEpoch 16, loss: 2.302776\nEpoch 17, loss: 2.301722\nEpoch 18, loss: 2.302128\nEpoch 19, loss: 2.302876\nEpoch 20, loss: 2.302246\nEpoch 21, loss: 2.302365\nEpoch 22, loss: 2.302223\nEpoch 23, loss: 2.300242\nEpoch 24, loss: 2.300924\nEpoch 25, loss: 2.303580\nEpoch 26, loss: 2.301194\nEpoch 27, loss: 2.300415\nEpoch 28, loss: 2.301270\nEpoch 29, loss: 2.300237\nEpoch 30, loss: 2.301187\nEpoch 31, loss: 2.302089\nEpoch 32, loss: 2.302254\nEpoch 33, loss: 2.300763\nEpoch 34, loss: 2.300354\nEpoch 35, loss: 2.300834\nEpoch 36, loss: 2.301078\nEpoch 37, loss: 2.301624\nEpoch 38, loss: 2.300823\nEpoch 39, loss: 2.300704\nEpoch 40, loss: 2.302469\nEpoch 41, loss: 2.301060\nEpoch 42, loss: 2.301501\nEpoch 43, loss: 2.300638\nEpoch 44, loss: 2.300669\nEpoch 45, loss: 2.300312\nEpoch 46, loss: 2.299224\nEpoch 47, loss: 2.301965\nEpoch 48, loss: 2.300544\nEpoch 49, loss: 2.302277\nEpoch 50, loss: 2.300151\nEpoch 51, loss: 2.302032\nEpoch 52, loss: 2.301674\nEpoch 53, loss: 2.302220\nEpoch 54, loss: 2.300472\nEpoch 55, loss: 2.298655\nEpoch 56, loss: 2.302350\nEpoch 57, loss: 2.301816\nEpoch 58, loss: 2.300817\nEpoch 59, loss: 2.303070\nEpoch 60, loss: 2.300092\nEpoch 61, loss: 2.301161\nEpoch 62, loss: 2.301111\nEpoch 63, loss: 2.301920\nEpoch 64, loss: 2.301454\nEpoch 65, loss: 2.299508\nEpoch 66, loss: 2.300095\nEpoch 67, loss: 2.302662\nEpoch 68, loss: 2.300025\nEpoch 69, loss: 2.300218\nEpoch 70, loss: 2.301590\nEpoch 71, loss: 2.300958\nEpoch 72, loss: 2.298350\nEpoch 73, loss: 2.301440\nEpoch 74, loss: 2.296435\nEpoch 75, loss: 2.299379\nEpoch 76, loss: 2.297595\nEpoch 77, loss: 2.303432\nEpoch 78, loss: 2.297982\nEpoch 79, loss: 2.300239\nEpoch 80, loss: 2.303023\nEpoch 81, loss: 2.297312\nEpoch 82, loss: 2.299979\nEpoch 83, loss: 2.301446\nEpoch 84, loss: 2.296568\nEpoch 85, loss: 2.296209\nEpoch 86, loss: 2.298092\nEpoch 87, loss: 2.301160\nEpoch 88, loss: 2.301908\nEpoch 89, loss: 2.300154\nEpoch 90, loss: 2.299348\nEpoch 91, loss: 2.299761\nEpoch 92, loss: 2.297671\nEpoch 93, loss: 2.297972\nEpoch 94, loss: 2.300102\nEpoch 95, loss: 2.299249\nEpoch 96, loss: 2.301187\nEpoch 97, loss: 2.302277\nEpoch 98, loss: 2.299650\nEpoch 99, loss: 2.301372\nEpoch 100, loss: 2.300464\nEpoch 101, loss: 2.298475\nEpoch 102, loss: 2.299107\nEpoch 103, loss: 2.299608\nEpoch 104, loss: 2.298046\nEpoch 105, loss: 2.300419\nEpoch 106, loss: 2.298706\nEpoch 107, loss: 2.295906\nEpoch 108, loss: 2.301974\nEpoch 109, loss: 2.300944\nEpoch 110, loss: 2.297818\nEpoch 111, loss: 2.296400\nEpoch 112, loss: 2.297042\nEpoch 113, loss: 2.299570\nEpoch 114, loss: 2.295830\nEpoch 115, loss: 2.300653\nEpoch 116, loss: 2.300934\nEpoch 117, loss: 2.299277\nEpoch 118, loss: 2.300252\nEpoch 119, loss: 2.302000\nEpoch 120, loss: 2.300037\nEpoch 121, loss: 2.301427\nEpoch 122, loss: 2.300486\nEpoch 123, loss: 2.298973\nEpoch 124, loss: 2.298214\nEpoch 125, loss: 2.299738\nEpoch 126, loss: 2.299901\nEpoch 127, loss: 2.303139\nEpoch 128, loss: 2.296364\nEpoch 129, loss: 2.299257\nEpoch 130, loss: 2.299129\nEpoch 131, loss: 2.298251\nEpoch 132, loss: 2.298929\nEpoch 133, loss: 2.296966\nEpoch 134, loss: 2.299583\nEpoch 135, loss: 2.298764\nEpoch 136, loss: 2.301666\nEpoch 137, loss: 2.297959\nEpoch 138, loss: 2.294574\nEpoch 139, loss: 2.300923\nEpoch 140, loss: 2.303883\nEpoch 141, loss: 2.293894\nEpoch 142, loss: 2.300730\nEpoch 143, loss: 2.299006\nEpoch 144, loss: 2.298639\nEpoch 145, loss: 2.301097\nEpoch 146, loss: 2.295993\nEpoch 147, loss: 2.290395\nEpoch 148, loss: 2.301075\nEpoch 149, loss: 2.297477\nEpoch 150, loss: 2.298046\nEpoch 151, loss: 2.299235\nEpoch 152, loss: 2.296779\nEpoch 153, loss: 2.298136\nEpoch 154, loss: 2.303238\nEpoch 155, loss: 2.298286\nEpoch 156, loss: 2.297725\nEpoch 157, loss: 2.297344\nEpoch 158, loss: 2.298113\nEpoch 159, loss: 2.296473\nEpoch 160, loss: 2.295108\nEpoch 161, loss: 2.300407\nEpoch 162, loss: 2.297103\nEpoch 163, loss: 2.296880\nEpoch 164, loss: 2.296935\nEpoch 165, loss: 2.298212\nEpoch 166, loss: 2.297284\nEpoch 167, loss: 2.298883\nEpoch 168, loss: 2.297721\nEpoch 169, loss: 2.296090\nEpoch 170, loss: 2.296904\nEpoch 171, loss: 2.302322\nEpoch 172, loss: 2.295266\nEpoch 173, loss: 2.297101\nEpoch 174, loss: 2.294165\nEpoch 175, loss: 2.299612\nEpoch 176, loss: 2.296692\nEpoch 177, loss: 2.296279\nEpoch 178, loss: 2.298954\nEpoch 179, loss: 2.293464\nEpoch 180, loss: 2.298731\nEpoch 181, loss: 2.304850\nEpoch 182, loss: 2.298795\nEpoch 183, loss: 2.298641\nEpoch 184, loss: 2.297940\nEpoch 185, loss: 2.295631\nEpoch 186, loss: 2.298769\nEpoch 187, loss: 2.301239\nEpoch 188, loss: 2.294978\nEpoch 189, loss: 2.294965\nEpoch 190, loss: 2.300056\nEpoch 191, loss: 2.297040\nEpoch 192, loss: 2.293725\nEpoch 193, loss: 2.298439\nEpoch 194, loss: 2.296221\nEpoch 195, loss: 2.294918\nEpoch 196, loss: 2.293405\nEpoch 197, loss: 2.300362\nEpoch 198, loss: 2.298260\nEpoch 199, loss: 2.298337\nEpoch 0, loss: 2.302286\nEpoch 1, loss: 2.303497\nEpoch 2, loss: 2.303630\nEpoch 3, loss: 2.301561\nEpoch 4, loss: 2.301163\nEpoch 5, loss: 2.303065\nEpoch 6, loss: 2.301298\nEpoch 7, loss: 2.302322\nEpoch 8, loss: 2.303227\nEpoch 9, loss: 2.301653\nEpoch 10, loss: 2.303706\nEpoch 11, loss: 2.301830\nEpoch 12, loss: 2.304149\nEpoch 13, loss: 2.303159\nEpoch 14, loss: 2.301611\nEpoch 15, loss: 2.301266\nEpoch 16, loss: 2.302246\nEpoch 17, loss: 2.302236\nEpoch 18, loss: 2.302393\nEpoch 19, loss: 2.300838\nEpoch 20, loss: 2.303149\nEpoch 21, loss: 2.303363\nEpoch 22, loss: 2.300900\nEpoch 23, loss: 2.301806\nEpoch 24, loss: 2.300609\nEpoch 25, loss: 2.301580\nEpoch 26, loss: 2.302830\nEpoch 27, loss: 2.302287\nEpoch 28, loss: 2.302674\nEpoch 29, loss: 2.302039\nEpoch 30, loss: 2.301977\nEpoch 31, loss: 2.301914\nEpoch 32, loss: 2.300261\nEpoch 33, loss: 2.302741\nEpoch 34, loss: 2.299498\nEpoch 35, loss: 2.301802\nEpoch 36, loss: 2.302306\nEpoch 37, loss: 2.301994\nEpoch 38, loss: 2.302608\nEpoch 39, loss: 2.301742\nEpoch 40, loss: 2.299681\nEpoch 41, loss: 2.301786\nEpoch 42, loss: 2.302190\nEpoch 43, loss: 2.302457\nEpoch 44, loss: 2.300215\nEpoch 45, loss: 2.300883\nEpoch 46, loss: 2.301187\nEpoch 47, loss: 2.301914\nEpoch 48, loss: 2.301658\nEpoch 49, loss: 2.300757\nEpoch 50, loss: 2.301568\nEpoch 51, loss: 2.301688\nEpoch 52, loss: 2.301197\nEpoch 53, loss: 2.299143\nEpoch 54, loss: 2.301470\nEpoch 55, loss: 2.298131\nEpoch 56, loss: 2.301248\nEpoch 57, loss: 2.302193\nEpoch 58, loss: 2.300866\nEpoch 59, loss: 2.298493\nEpoch 60, loss: 2.301978\nEpoch 61, loss: 2.300227\nEpoch 62, loss: 2.299155\nEpoch 63, loss: 2.301430\nEpoch 64, loss: 2.300078\nEpoch 65, loss: 2.300165\nEpoch 66, loss: 2.301135\nEpoch 67, loss: 2.300608\nEpoch 68, loss: 2.302366\nEpoch 69, loss: 2.300267\nEpoch 70, loss: 2.300637\nEpoch 71, loss: 2.299558\nEpoch 72, loss: 2.297647\nEpoch 73, loss: 2.299108\nEpoch 74, loss: 2.299943\nEpoch 75, loss: 2.298162\nEpoch 76, loss: 2.301451\nEpoch 77, loss: 2.301122\nEpoch 78, loss: 2.300877\nEpoch 79, loss: 2.301017\nEpoch 80, loss: 2.299232\nEpoch 81, loss: 2.299212\nEpoch 82, loss: 2.301095\nEpoch 83, loss: 2.300622\nEpoch 84, loss: 2.301961\nEpoch 85, loss: 2.303629\nEpoch 86, loss: 2.301721\nEpoch 87, loss: 2.299376\nEpoch 88, loss: 2.297999\nEpoch 89, loss: 2.297725\nEpoch 90, loss: 2.299150\nEpoch 91, loss: 2.300244\nEpoch 92, loss: 2.295290\nEpoch 93, loss: 2.301921\nEpoch 94, loss: 2.302675\nEpoch 95, loss: 2.300647\nEpoch 96, loss: 2.300588\nEpoch 97, loss: 2.297803\nEpoch 98, loss: 2.297636\nEpoch 99, loss: 2.300001\nEpoch 100, loss: 2.297036\nEpoch 101, loss: 2.303474\nEpoch 102, loss: 2.298763\nEpoch 103, loss: 2.299846\nEpoch 104, loss: 2.294673\nEpoch 105, loss: 2.297128\nEpoch 106, loss: 2.297692\nEpoch 107, loss: 2.299272\nEpoch 108, loss: 2.300552\nEpoch 109, loss: 2.301000\nEpoch 110, loss: 2.298676\nEpoch 111, loss: 2.299539\nEpoch 112, loss: 2.298368\nEpoch 113, loss: 2.296910\nEpoch 114, loss: 2.299128\nEpoch 115, loss: 2.298471\nEpoch 116, loss: 2.300821\nEpoch 117, loss: 2.298096\nEpoch 118, loss: 2.299235\nEpoch 119, loss: 2.298087\nEpoch 120, loss: 2.300453\nEpoch 121, loss: 2.302139\nEpoch 122, loss: 2.295051\nEpoch 123, loss: 2.298116\nEpoch 124, loss: 2.296652\nEpoch 125, loss: 2.298347\nEpoch 126, loss: 2.300656\nEpoch 127, loss: 2.298286\nEpoch 128, loss: 2.298074\nEpoch 129, loss: 2.299070\nEpoch 130, loss: 2.293351\nEpoch 131, loss: 2.301206\nEpoch 132, loss: 2.293916\nEpoch 133, loss: 2.298913\nEpoch 134, loss: 2.300314\nEpoch 135, loss: 2.298348\nEpoch 136, loss: 2.300586\nEpoch 137, loss: 2.298192\nEpoch 138, loss: 2.298959\nEpoch 139, loss: 2.296969\nEpoch 140, loss: 2.301921\nEpoch 141, loss: 2.298217\nEpoch 142, loss: 2.300649\nEpoch 143, loss: 2.296145\nEpoch 144, loss: 2.298223\nEpoch 145, loss: 2.296928\nEpoch 146, loss: 2.299155\nEpoch 147, loss: 2.294899\nEpoch 148, loss: 2.297141\nEpoch 149, loss: 2.302140\nEpoch 150, loss: 2.295619\nEpoch 151, loss: 2.299589\nEpoch 152, loss: 2.295540\nEpoch 153, loss: 2.295008\nEpoch 154, loss: 2.297249\nEpoch 155, loss: 2.293075\nEpoch 156, loss: 2.302264\nEpoch 157, loss: 2.297343\nEpoch 158, loss: 2.299647\nEpoch 159, loss: 2.294954\nEpoch 160, loss: 2.297810\nEpoch 161, loss: 2.298679\nEpoch 162, loss: 2.298881\nEpoch 163, loss: 2.300178\nEpoch 164, loss: 2.291754\nEpoch 165, loss: 2.295254\nEpoch 166, loss: 2.301015\nEpoch 167, loss: 2.296120\nEpoch 168, loss: 2.298558\nEpoch 169, loss: 2.298771\nEpoch 170, loss: 2.298754\nEpoch 171, loss: 2.298053\nEpoch 172, loss: 2.296038\nEpoch 173, loss: 2.296205\nEpoch 174, loss: 2.300478\nEpoch 175, loss: 2.299756\nEpoch 176, loss: 2.294431\nEpoch 177, loss: 2.295095\nEpoch 178, loss: 2.296989\nEpoch 179, loss: 2.299438\nEpoch 180, loss: 2.300562\nEpoch 181, loss: 2.299382\nEpoch 182, loss: 2.293378\nEpoch 183, loss: 2.294544\nEpoch 184, loss: 2.300350\nEpoch 185, loss: 2.300116\nEpoch 186, loss: 2.295638\nEpoch 187, loss: 2.296385\nEpoch 188, loss: 2.294374\nEpoch 189, loss: 2.297326\nEpoch 190, loss: 2.296147\nEpoch 191, loss: 2.289786\nEpoch 192, loss: 2.299193\nEpoch 193, loss: 2.293113\nEpoch 194, loss: 2.294625\nEpoch 195, loss: 2.297058\nEpoch 196, loss: 2.298903\nEpoch 197, loss: 2.300133\nEpoch 198, loss: 2.295320\nEpoch 199, loss: 2.294470\nEpoch 0, loss: 2.302609\nEpoch 1, loss: 2.302261\nEpoch 2, loss: 2.303141\nEpoch 3, loss: 2.303613\nEpoch 4, loss: 2.302976\nEpoch 5, loss: 2.302680\nEpoch 6, loss: 2.301031\nEpoch 7, loss: 2.301554\nEpoch 8, loss: 2.303346\nEpoch 9, loss: 2.300722\nEpoch 10, loss: 2.300869\nEpoch 11, loss: 2.303507\nEpoch 12, loss: 2.302309\nEpoch 13, loss: 2.301908\nEpoch 14, loss: 2.300766\nEpoch 15, loss: 2.301316\nEpoch 16, loss: 2.302688\nEpoch 17, loss: 2.300196\nEpoch 18, loss: 2.301098\nEpoch 19, loss: 2.302148\nEpoch 20, loss: 2.301658\nEpoch 21, loss: 2.301034\nEpoch 22, loss: 2.302535\nEpoch 23, loss: 2.302233\nEpoch 24, loss: 2.303845\nEpoch 25, loss: 2.303147\nEpoch 26, loss: 2.304406\nEpoch 27, loss: 2.301281\nEpoch 28, loss: 2.302619\nEpoch 29, loss: 2.302160\nEpoch 30, loss: 2.301468\nEpoch 31, loss: 2.301062\nEpoch 32, loss: 2.301089\nEpoch 33, loss: 2.299823\nEpoch 34, loss: 2.301503\nEpoch 35, loss: 2.301185\nEpoch 36, loss: 2.301566\nEpoch 37, loss: 2.303045\nEpoch 38, loss: 2.300301\nEpoch 39, loss: 2.302815\nEpoch 40, loss: 2.298937\nEpoch 41, loss: 2.302801\nEpoch 42, loss: 2.302579\nEpoch 43, loss: 2.299198\nEpoch 44, loss: 2.299593\nEpoch 45, loss: 2.299904\nEpoch 46, loss: 2.298784\nEpoch 47, loss: 2.301657\nEpoch 48, loss: 2.300987\nEpoch 49, loss: 2.301956\nEpoch 50, loss: 2.302693\nEpoch 51, loss: 2.300247\nEpoch 52, loss: 2.299620\nEpoch 53, loss: 2.300461\nEpoch 54, loss: 2.298204\nEpoch 55, loss: 2.300399\nEpoch 56, loss: 2.302860\nEpoch 57, loss: 2.299958\nEpoch 58, loss: 2.301221\nEpoch 59, loss: 2.298690\nEpoch 60, loss: 2.301462\nEpoch 61, loss: 2.300406\nEpoch 62, loss: 2.301590\nEpoch 63, loss: 2.300050\nEpoch 64, loss: 2.298655\nEpoch 65, loss: 2.302506\nEpoch 66, loss: 2.300989\nEpoch 67, loss: 2.300829\nEpoch 68, loss: 2.302177\nEpoch 69, loss: 2.300019\nEpoch 70, loss: 2.301239\nEpoch 71, loss: 2.299208\nEpoch 72, loss: 2.298864\nEpoch 73, loss: 2.301377\nEpoch 74, loss: 2.299068\nEpoch 75, loss: 2.299626\nEpoch 76, loss: 2.300459\nEpoch 77, loss: 2.301220\nEpoch 78, loss: 2.298850\nEpoch 79, loss: 2.300246\nEpoch 80, loss: 2.300027\nEpoch 81, loss: 2.302800\nEpoch 82, loss: 2.298571\nEpoch 83, loss: 2.300315\nEpoch 84, loss: 2.298194\nEpoch 85, loss: 2.299254\nEpoch 86, loss: 2.301437\nEpoch 87, loss: 2.300641\nEpoch 88, loss: 2.300555\nEpoch 89, loss: 2.299417\nEpoch 90, loss: 2.299819\nEpoch 91, loss: 2.299863\nEpoch 92, loss: 2.297323\nEpoch 93, loss: 2.302756\nEpoch 94, loss: 2.300403\nEpoch 95, loss: 2.297318\nEpoch 96, loss: 2.300069\nEpoch 97, loss: 2.299772\nEpoch 98, loss: 2.301960\nEpoch 99, loss: 2.297164\nEpoch 100, loss: 2.297040\nEpoch 101, loss: 2.299629\nEpoch 102, loss: 2.297662\nEpoch 103, loss: 2.301216\nEpoch 104, loss: 2.302480\nEpoch 105, loss: 2.302471\nEpoch 106, loss: 2.298608\nEpoch 107, loss: 2.297847\nEpoch 108, loss: 2.300709\nEpoch 109, loss: 2.296029\nEpoch 110, loss: 2.300545\nEpoch 111, loss: 2.298175\nEpoch 112, loss: 2.299156\nEpoch 113, loss: 2.298849\nEpoch 114, loss: 2.301936\nEpoch 115, loss: 2.299614\nEpoch 116, loss: 2.301680\nEpoch 117, loss: 2.299267\nEpoch 118, loss: 2.297065\nEpoch 119, loss: 2.300725\nEpoch 120, loss: 2.302638\nEpoch 121, loss: 2.300351\nEpoch 122, loss: 2.301340\nEpoch 123, loss: 2.297659\nEpoch 124, loss: 2.298837\nEpoch 125, loss: 2.300960\nEpoch 126, loss: 2.300619\nEpoch 127, loss: 2.293886\nEpoch 128, loss: 2.298846\nEpoch 129, loss: 2.298947\nEpoch 130, loss: 2.295405\nEpoch 131, loss: 2.298568\nEpoch 132, loss: 2.299710\nEpoch 133, loss: 2.300614\nEpoch 134, loss: 2.296792\nEpoch 135, loss: 2.296641\nEpoch 136, loss: 2.299118\nEpoch 137, loss: 2.303236\nEpoch 138, loss: 2.295858\nEpoch 139, loss: 2.299012\nEpoch 140, loss: 2.296651\nEpoch 141, loss: 2.296980\nEpoch 142, loss: 2.299608\nEpoch 143, loss: 2.298741\nEpoch 144, loss: 2.296664\nEpoch 145, loss: 2.299819\nEpoch 146, loss: 2.295134\nEpoch 147, loss: 2.295559\nEpoch 148, loss: 2.296882\nEpoch 149, loss: 2.300095\nEpoch 150, loss: 2.299812\nEpoch 151, loss: 2.295884\nEpoch 152, loss: 2.297110\nEpoch 153, loss: 2.298382\nEpoch 154, loss: 2.299602\nEpoch 155, loss: 2.300516\nEpoch 156, loss: 2.299603\nEpoch 157, loss: 2.297308\nEpoch 158, loss: 2.300039\nEpoch 159, loss: 2.295738\nEpoch 160, loss: 2.300965\nEpoch 161, loss: 2.298711\nEpoch 162, loss: 2.300604\nEpoch 163, loss: 2.291673\nEpoch 164, loss: 2.297566\nEpoch 165, loss: 2.296428\nEpoch 166, loss: 2.296772\nEpoch 167, loss: 2.294527\nEpoch 168, loss: 2.292874\nEpoch 169, loss: 2.296231\nEpoch 170, loss: 2.298592\nEpoch 171, loss: 2.299025\nEpoch 172, loss: 2.293935\nEpoch 173, loss: 2.297747\nEpoch 174, loss: 2.296419\nEpoch 175, loss: 2.296177\nEpoch 176, loss: 2.294646\nEpoch 177, loss: 2.297567\nEpoch 178, loss: 2.294677\nEpoch 179, loss: 2.299819\nEpoch 180, loss: 2.293397\nEpoch 181, loss: 2.298698\nEpoch 182, loss: 2.295919\nEpoch 183, loss: 2.296484\nEpoch 184, loss: 2.302869\nEpoch 185, loss: 2.299649\nEpoch 186, loss: 2.295880\nEpoch 187, loss: 2.298343\nEpoch 188, loss: 2.301465\nEpoch 189, loss: 2.299785\nEpoch 190, loss: 2.298319\nEpoch 191, loss: 2.298174\nEpoch 192, loss: 2.298250\nEpoch 193, loss: 2.297962\nEpoch 194, loss: 2.297048\nEpoch 195, loss: 2.295723\nEpoch 196, loss: 2.294062\nEpoch 197, loss: 2.294864\nEpoch 198, loss: 2.300336\nEpoch 199, loss: 2.294213\nbest validation accuracy achieved: 0.231000\n"
    }
   ],
   "source": [
    "num_epochs = 200\n",
    "batch_size = 100\n",
    "\n",
    "learning_rates = [1e-3, 1e-4, 1e-5]\n",
    "reg_strengths = [1e-4, 1e-5, 1e-6]\n",
    "\n",
    "best_classifier = None\n",
    "best_val_accuracy = 0.0\n",
    "\n",
    "# TODO use validation set to find the best hyperparameters\n",
    "# hint: for best results, you might need to try more values for learning rate and regularization strength \n",
    "# than provided initially\n",
    "for l in learning_rates:\n",
    "    for reg in reg_strengths:\n",
    "        clf = linear_classifer.LinearSoftmaxClassifier() \n",
    "        clf.fit(train_X, train_y, epochs=num_epochs, learning_rate=l, batch_size=batch_size, reg=reg)\n",
    "        pred = clf.predict(val_X)\n",
    "        accuracy = multiclass_accuracy(pred, val_y)\n",
    "        if best_val_accuracy < accuracy:\n",
    "            print('lr: %f | rs: %f | res: %f' % (l, reg, accuracy))\n",
    "            best_val_accuracy = accuracy\n",
    "            best_classifier = clf\n",
    "\n",
    "print('best validation accuracy achieved: %f' % best_val_accuracy)"
   ]
  },
  {
   "cell_type": "markdown",
   "execution_count": null,
   "metadata": {},
   "outputs": [],
   "source": [
    "# Какой же точности мы добились на тестовых данных?"
   ]
  },
  {
   "cell_type": "code",
   "execution_count": 17,
   "metadata": {},
   "outputs": [
    {
     "name": "stdout",
     "output_type": "stream",
     "text": "Linear softmax classifier test set accuracy: 0.206000\n"
    }
   ],
   "source": [
    "test_pred = best_classifier.predict(test_X)\n",
    "test_accuracy = multiclass_accuracy(test_pred, test_y)\n",
    "print('Linear softmax classifier test set accuracy: %f' % (test_accuracy, ))"
   ]
  },
  {
   "cell_type": "code",
   "execution_count": null,
   "metadata": {},
   "outputs": [],
   "source": []
  }
 ],
 "metadata": {
  "kernelspec": {
   "display_name": "Python 3",
   "language": "python",
   "name": "python3"
  },
  "language_info": {
   "codemirror_mode": {
    "name": "ipython",
    "version": 3
   },
   "file_extension": ".py",
   "mimetype": "text/x-python",
   "name": "python",
   "nbconvert_exporter": "python",
   "pygments_lexer": "ipython3",
   "version": "3.7.4-final"
  }
 },
 "nbformat": 4,
 "nbformat_minor": 2
}