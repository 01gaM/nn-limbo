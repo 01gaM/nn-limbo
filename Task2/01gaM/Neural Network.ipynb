{
 "cells": [
  {
   "cell_type": "markdown",
   "metadata": {},
   "source": [
    "# Задание 2.1 - Нейронные сети\n",
    "\n",
    "В этом задании вы реализуете и натренируете настоящую нейроную сеть своими руками!\n",
    "\n",
    "В некотором смысле это будет расширением прошлого задания - нам нужно просто составить несколько линейных классификаторов вместе!\n",
    "\n",
    "<img src=\"https://i.redd.it/n9fgba8b0qr01.png\" alt=\"Stack_more_layers\" width=\"400px\"/>"
   ]
  },
  {
   "cell_type": "code",
   "execution_count": 1,
   "metadata": {},
   "outputs": [],
   "source": [
    "import numpy as np\n",
    "import matplotlib.pyplot as plt\n",
    "\n",
    "%matplotlib inline\n",
    "\n",
    "%load_ext autoreload\n",
    "%autoreload 2"
   ]
  },
  {
   "cell_type": "code",
   "execution_count": 2,
   "metadata": {},
   "outputs": [],
   "source": [
    "from dataset import load_svhn, random_split_train_val\n",
    "from gradient_check import check_layer_gradient, check_layer_param_gradient, check_model_gradient\n",
    "from layers import FullyConnectedLayer, ReLULayer\n",
    "from model import TwoLayerNet\n",
    "from trainer import Trainer, Dataset\n",
    "from optim import SGD, MomentumSGD\n",
    "from metrics import multiclass_accuracy"
   ]
  },
  {
   "cell_type": "markdown",
   "metadata": {},
   "source": [
    "# Загружаем данные\n",
    "\n",
    "И разделяем их на training и validation."
   ]
  },
  {
   "cell_type": "code",
   "execution_count": 3,
   "metadata": {},
   "outputs": [],
   "source": [
    "def prepare_for_neural_network(train_X, test_X):\n",
    "    train_flat = train_X.reshape(train_X.shape[0], -1).astype(np.float) / 255.0\n",
    "    test_flat = test_X.reshape(test_X.shape[0], -1).astype(np.float) / 255.0\n",
    "    \n",
    "    # Subtract mean\n",
    "    mean_image = np.mean(train_flat, axis = 0)\n",
    "    train_flat -= mean_image\n",
    "    test_flat -= mean_image\n",
    "    \n",
    "    return train_flat, test_flat\n",
    "    \n",
    "train_X, train_y, test_X, test_y = load_svhn(\"data\", max_train=10000, max_test=1000)    \n",
    "train_X, test_X = prepare_for_neural_network(train_X, test_X)\n",
    "# Split train into train and val\n",
    "train_X, train_y, val_X, val_y = random_split_train_val(train_X, train_y, num_val = 1000)"
   ]
  },
  {
   "cell_type": "markdown",
   "metadata": {},
   "source": [
    "# Как всегда, начинаем с кирпичиков\n",
    "\n",
    "Мы будем реализовывать необходимые нам слои по очереди. Каждый слой должен реализовать:\n",
    "- прямой проход (forward pass), который генерирует выход слоя по входу и запоминает необходимые данные\n",
    "- обратный проход (backward pass), который получает градиент по выходу слоя и вычисляет градиент по входу и по параметрам\n",
    "\n",
    "Начнем с ReLU, у которого параметров нет."
   ]
  },
  {
   "cell_type": "code",
   "execution_count": 4,
   "metadata": {
    "scrolled": false
   },
   "outputs": [
    {
     "name": "stdout",
     "output_type": "stream",
     "text": [
      "Gradient check passed!\n"
     ]
    }
   ],
   "source": [
    "# TODO: Implement ReLULayer layer in layers.py\n",
    "# Note: you'll need to copy implementation of the gradient_check function from the previous assignment\n",
    "\n",
    "X = np.array([[1,-2,3],\n",
    "              [-1, 2, 0.1]\n",
    "              ])\n",
    "\n",
    "assert check_layer_gradient(ReLULayer(), X)"
   ]
  },
  {
   "cell_type": "markdown",
   "metadata": {},
   "source": [
    "А теперь реализуем полносвязный слой (fully connected layer), у которого будет два массива параметров: W (weights) и B (bias).\n",
    "\n",
    "Все параметры наши слои будут использовать для параметров специальный класс `Param`, в котором будут храниться значения параметров и градиенты этих параметров, вычисляемые во время обратного прохода.\n",
    "\n",
    "Это даст возможность аккумулировать (суммировать) градиенты из разных частей функции потерь, например, из cross-entropy loss и regularization loss."
   ]
  },
  {
   "cell_type": "code",
   "execution_count": 5,
   "metadata": {},
   "outputs": [
    {
     "name": "stdout",
     "output_type": "stream",
     "text": [
      "Gradient check passed!\n",
      "Gradient check passed!\n",
      "Gradient check passed!\n"
     ]
    }
   ],
   "source": [
    "# TODO: Implement FullyConnected layer forward and backward methods\n",
    "assert check_layer_gradient(FullyConnectedLayer(3, 4), X)\n",
    "# TODO: Implement storing gradients for W and B\n",
    "assert check_layer_param_gradient(FullyConnectedLayer(3, 4), X, 'W')\n",
    "assert check_layer_param_gradient(FullyConnectedLayer(3, 4), X, 'B')"
   ]
  },
  {
   "cell_type": "markdown",
   "metadata": {},
   "source": [
    "## Создаем нейронную сеть\n",
    "\n",
    "Теперь мы реализуем простейшую нейронную сеть с двумя полносвязным слоями и нелинейностью ReLU. Реализуйте функцию `compute_loss_and_gradients`, она должна запустить прямой и обратный проход через оба слоя для вычисления градиентов.\n",
    "\n",
    "Не забудьте реализовать очистку градиентов в начале функции."
   ]
  },
  {
   "cell_type": "code",
   "execution_count": 6,
   "metadata": {},
   "outputs": [
    {
     "name": "stdout",
     "output_type": "stream",
     "text": [
      "Checking gradient for W1\n",
      "Gradient check passed!\n",
      "Checking gradient for B1\n",
      "Gradient check passed!\n",
      "Checking gradient for W2\n",
      "Gradient check passed!\n",
      "Checking gradient for B2\n",
      "Gradient check passed!\n"
     ]
    },
    {
     "data": {
      "text/plain": [
       "True"
      ]
     },
     "execution_count": 6,
     "metadata": {},
     "output_type": "execute_result"
    }
   ],
   "source": [
    "# TODO: In model.py, implement compute_loss_and_gradients function\n",
    "model = TwoLayerNet(n_input = train_X.shape[1], n_output = 10, hidden_layer_size = 3, reg = 0)\n",
    "loss = model.compute_loss_and_gradients(train_X[:2], train_y[:2])\n",
    "\n",
    "# TODO Now implement backward pass and aggregate all of the params\n",
    "check_model_gradient(model, train_X[:2], train_y[:2])"
   ]
  },
  {
   "cell_type": "markdown",
   "metadata": {},
   "source": [
    "Теперь добавьте к модели регуляризацию - она должна прибавляться к loss и делать свой вклад в градиенты."
   ]
  },
  {
   "cell_type": "code",
   "execution_count": 7,
   "metadata": {},
   "outputs": [
    {
     "name": "stdout",
     "output_type": "stream",
     "text": [
      "Checking gradient for W1\n",
      "Gradient check passed!\n",
      "Checking gradient for B1\n",
      "Gradient check passed!\n",
      "Checking gradient for W2\n",
      "Gradient check passed!\n",
      "Checking gradient for B2\n",
      "Gradient check passed!\n"
     ]
    },
    {
     "data": {
      "text/plain": [
       "True"
      ]
     },
     "execution_count": 7,
     "metadata": {},
     "output_type": "execute_result"
    }
   ],
   "source": [
    "# TODO Now implement l2 regularization in the forward and backward pass\n",
    "model_with_reg = TwoLayerNet(n_input = train_X.shape[1], n_output = 10, hidden_layer_size = 3, reg = 1e1)\n",
    "loss_with_reg = model_with_reg.compute_loss_and_gradients(train_X[:2], train_y[:2])\n",
    "assert loss_with_reg > loss and not np.isclose(loss_with_reg, loss), \\\n",
    "    \"Loss with regularization (%2.4f) should be higher than without it (%2.4f)!\" % (loss, loss_with_reg)\n",
    "\n",
    "check_model_gradient(model_with_reg, train_X[:2], train_y[:2])"
   ]
  },
  {
   "cell_type": "markdown",
   "metadata": {},
   "source": [
    "Также реализуем функцию предсказания (вычисления значения) модели на новых данных.\n",
    "\n",
    "Какое значение точности мы ожидаем увидеть до начала тренировки?"
   ]
  },
  {
   "cell_type": "code",
   "execution_count": 8,
   "metadata": {},
   "outputs": [
    {
     "data": {
      "text/plain": [
       "0.1"
      ]
     },
     "execution_count": 8,
     "metadata": {},
     "output_type": "execute_result"
    }
   ],
   "source": [
    "# Finally, implement predict function!\n",
    "\n",
    "# TODO: Implement predict function\n",
    "# What would be the value we expect?\n",
    "multiclass_accuracy(model_with_reg.predict(train_X[:30]), train_y[:30]) "
   ]
  },
  {
   "cell_type": "markdown",
   "metadata": {},
   "source": [
    "# Допишем код для процесса тренировки\n",
    "\n",
    "Если все реализовано корректно, значение функции ошибки должно уменьшаться с каждой эпохой, пусть и медленно. Не беспокойтесь пока про validation accuracy."
   ]
  },
  {
   "cell_type": "code",
   "execution_count": 9,
   "metadata": {},
   "outputs": [
    {
     "name": "stdout",
     "output_type": "stream",
     "text": [
      "Loss: 2.302029, Train accuracy: 0.196667, val accuracy: 0.206000\n",
      "Loss: 2.301685, Train accuracy: 0.196667, val accuracy: 0.206000\n",
      "Loss: 2.301851, Train accuracy: 0.148222, val accuracy: 0.140000\n",
      "Loss: 2.302623, Train accuracy: 0.196667, val accuracy: 0.206000\n",
      "Loss: 2.302031, Train accuracy: 0.196667, val accuracy: 0.206000\n",
      "Loss: 2.301124, Train accuracy: 0.196667, val accuracy: 0.206000\n",
      "Loss: 2.302831, Train accuracy: 0.196667, val accuracy: 0.206000\n",
      "Loss: 2.301638, Train accuracy: 0.196667, val accuracy: 0.206000\n",
      "Loss: 2.302170, Train accuracy: 0.196667, val accuracy: 0.206000\n",
      "Loss: 2.302117, Train accuracy: 0.196667, val accuracy: 0.206000\n",
      "Loss: 2.302455, Train accuracy: 0.196667, val accuracy: 0.206000\n",
      "Loss: 2.302807, Train accuracy: 0.196667, val accuracy: 0.206000\n",
      "Loss: 2.302832, Train accuracy: 0.196667, val accuracy: 0.206000\n",
      "Loss: 2.302390, Train accuracy: 0.196667, val accuracy: 0.206000\n",
      "Loss: 2.303278, Train accuracy: 0.196667, val accuracy: 0.206000\n",
      "Loss: 2.301772, Train accuracy: 0.196667, val accuracy: 0.206000\n",
      "Loss: 2.302333, Train accuracy: 0.196667, val accuracy: 0.206000\n",
      "Loss: 2.302433, Train accuracy: 0.148222, val accuracy: 0.140000\n",
      "Loss: 2.301941, Train accuracy: 0.196667, val accuracy: 0.206000\n",
      "Loss: 2.302173, Train accuracy: 0.196667, val accuracy: 0.206000\n"
     ]
    }
   ],
   "source": [
    "model = TwoLayerNet(n_input = train_X.shape[1], n_output = 10, hidden_layer_size = 100, reg = 1e1)\n",
    "dataset = Dataset(train_X, train_y, val_X, val_y)\n",
    "trainer = Trainer(model, dataset, SGD(), learning_rate = 1e-2)\n",
    "\n",
    "# TODO Implement missing pieces in Trainer.fit function\n",
    "# You should expect loss to go down every epoch, even if it's slow\n",
    "loss_history, train_history, val_history = trainer.fit()"
   ]
  },
  {
   "cell_type": "code",
   "execution_count": 10,
   "metadata": {},
   "outputs": [
    {
     "data": {
      "text/plain": [
       "[<matplotlib.lines.Line2D at 0x19e273aac10>]"
      ]
     },
     "execution_count": 10,
     "metadata": {},
     "output_type": "execute_result"
    },
    {
     "data": {
      "image/png": "[encoded data removed]",
      "text/plain": [
       "<Figure size 432x288 with 1 Axes>"
      ]
     },
     "metadata": {
      "needs_background": "light"
     },
     "output_type": "display_data"
    }
   ],
   "source": [
    "plt.plot(train_history)\n",
    "plt.plot(val_history)"
   ]
  },
  {
   "cell_type": "markdown",
   "metadata": {},
   "source": [
    "# Улучшаем процесс тренировки\n",
    "\n",
    "Мы реализуем несколько ключевых оптимизаций, необходимых для тренировки современных нейросетей."
   ]
  },
  {
   "cell_type": "markdown",
   "metadata": {},
   "source": [
    "## Уменьшение скорости обучения (learning rate decay)\n",
    "\n",
    "Одна из необходимых оптимизаций во время тренировки нейронных сетей - постепенное уменьшение скорости обучения по мере тренировки.\n",
    "\n",
    "Один из стандартных методов - уменьшение скорости обучения (learning rate) каждые N эпох на коэффициент d (часто называемый decay). Значения N и d, как всегда, являются гиперпараметрами и должны подбираться на основе эффективности на проверочных данных (validation data). \n",
    "\n",
    "В нашем случае N будет равным 1."
   ]
  },
  {
   "cell_type": "code",
   "execution_count": 11,
   "metadata": {},
   "outputs": [
    {
     "name": "stdout",
     "output_type": "stream",
     "text": [
      "Loss: 2.275985, Train accuracy: 0.196667, val accuracy: 0.206000\n",
      "Loss: 2.347515, Train accuracy: 0.196667, val accuracy: 0.206000\n",
      "Loss: 2.264348, Train accuracy: 0.196667, val accuracy: 0.206000\n",
      "Loss: 2.287890, Train accuracy: 0.196667, val accuracy: 0.206000\n",
      "Loss: 2.253264, Train accuracy: 0.196667, val accuracy: 0.206000\n",
      "Loss: 2.265011, Train accuracy: 0.196667, val accuracy: 0.206000\n",
      "Loss: 2.212698, Train accuracy: 0.196667, val accuracy: 0.206000\n",
      "Loss: 2.320777, Train accuracy: 0.196667, val accuracy: 0.206000\n",
      "Loss: 2.302624, Train accuracy: 0.196667, val accuracy: 0.206000\n",
      "Loss: 2.311032, Train accuracy: 0.196667, val accuracy: 0.206000\n",
      "Loss: 2.234316, Train accuracy: 0.196667, val accuracy: 0.206000\n",
      "Loss: 2.283390, Train accuracy: 0.196667, val accuracy: 0.206000\n",
      "Loss: 2.353994, Train accuracy: 0.196667, val accuracy: 0.206000\n",
      "Loss: 2.217454, Train accuracy: 0.196667, val accuracy: 0.206000\n",
      "Loss: 2.378711, Train accuracy: 0.196667, val accuracy: 0.206000\n",
      "Loss: 2.256101, Train accuracy: 0.196667, val accuracy: 0.206000\n",
      "Loss: 2.309860, Train accuracy: 0.196667, val accuracy: 0.206000\n",
      "Loss: 2.264767, Train accuracy: 0.196667, val accuracy: 0.206000\n",
      "Loss: 2.276485, Train accuracy: 0.196667, val accuracy: 0.206000\n",
      "Loss: 2.274562, Train accuracy: 0.196667, val accuracy: 0.206000\n"
     ]
    }
   ],
   "source": [
    "# TODO Implement learning rate decay inside Trainer.fit method\n",
    "# Decay should happen once per epoch\n",
    "\n",
    "model = TwoLayerNet(n_input = train_X.shape[1], n_output = 10, hidden_layer_size = 100, reg = 1e-1)\n",
    "dataset = Dataset(train_X, train_y, val_X, val_y)\n",
    "trainer = Trainer(model, dataset, SGD(), learning_rate_decay=0.99)\n",
    "\n",
    "initial_learning_rate = trainer.learning_rate\n",
    "loss_history, train_history, val_history = trainer.fit()\n",
    "\n",
    "assert trainer.learning_rate < initial_learning_rate, \"Learning rate should've been reduced\"\n",
    "assert trainer.learning_rate > 0.5*initial_learning_rate, \"Learning rate shouldn'tve been reduced that much!\""
   ]
  },
  {
   "cell_type": "markdown",
   "metadata": {},
   "source": [
    "# Накопление импульса (Momentum SGD)\n",
    "\n",
    "Другой большой класс оптимизаций - использование более эффективных методов градиентного спуска. Мы реализуем один из них - накопление импульса (Momentum SGD).\n",
    "\n",
    "Этот метод хранит скорость движения, использует градиент для ее изменения на каждом шаге, и изменяет веса пропорционально значению скорости.\n",
    "(Физическая аналогия: Вместо скорости градиенты теперь будут задавать ускорение, но будет присутствовать сила трения.)\n",
    "\n",
    "```\n",
    "velocity = momentum * velocity - learning_rate * gradient \n",
    "w = w + velocity\n",
    "```\n",
    "\n",
    "`momentum` здесь коэффициент затухания, который тоже является гиперпараметром (к счастью, для него часто есть хорошее значение по умолчанию, типичный диапазон -- 0.8-0.99).\n",
    "\n",
    "Несколько полезных ссылок, где метод разбирается более подробно:  \n",
    "http://cs231n.github.io/neural-networks-3/#sgd  \n",
    "https://distill.pub/2017/momentum/"
   ]
  },
  {
   "cell_type": "code",
   "execution_count": 12,
   "metadata": {},
   "outputs": [
    {
     "name": "stdout",
     "output_type": "stream",
     "text": [
      "Loss: 2.322051, Train accuracy: 0.196667, val accuracy: 0.206000\n",
      "Loss: 2.308033, Train accuracy: 0.196667, val accuracy: 0.206000\n",
      "Loss: 2.317549, Train accuracy: 0.196667, val accuracy: 0.206000\n",
      "Loss: 2.262630, Train accuracy: 0.196667, val accuracy: 0.206000\n",
      "Loss: 2.270323, Train accuracy: 0.196667, val accuracy: 0.206000\n",
      "Loss: 2.308261, Train accuracy: 0.196667, val accuracy: 0.206000\n",
      "Loss: 2.264990, Train accuracy: 0.196667, val accuracy: 0.206000\n",
      "Loss: 2.278636, Train accuracy: 0.196667, val accuracy: 0.206000\n",
      "Loss: 2.267083, Train accuracy: 0.196667, val accuracy: 0.206000\n",
      "Loss: 2.279901, Train accuracy: 0.196667, val accuracy: 0.206000\n",
      "Loss: 2.276510, Train accuracy: 0.196667, val accuracy: 0.206000\n",
      "Loss: 2.314133, Train accuracy: 0.196667, val accuracy: 0.206000\n",
      "Loss: 2.256404, Train accuracy: 0.196667, val accuracy: 0.206000\n",
      "Loss: 2.295822, Train accuracy: 0.196667, val accuracy: 0.206000\n",
      "Loss: 2.290051, Train accuracy: 0.196667, val accuracy: 0.206000\n",
      "Loss: 2.278750, Train accuracy: 0.196667, val accuracy: 0.206000\n",
      "Loss: 2.280567, Train accuracy: 0.196667, val accuracy: 0.206000\n",
      "Loss: 2.255044, Train accuracy: 0.196667, val accuracy: 0.206000\n",
      "Loss: 2.240982, Train accuracy: 0.196667, val accuracy: 0.206000\n",
      "Loss: 2.315651, Train accuracy: 0.196667, val accuracy: 0.206000\n"
     ]
    }
   ],
   "source": [
    "# TODO: Implement MomentumSGD.update function in optim.py\n",
    "\n",
    "model = TwoLayerNet(n_input = train_X.shape[1], n_output = 10, hidden_layer_size = 100, reg = 1e-1)\n",
    "dataset = Dataset(train_X, train_y, val_X, val_y)\n",
    "trainer = Trainer(model, dataset, MomentumSGD(), learning_rate=1e-4, learning_rate_decay=0.99)\n",
    "\n",
    "# You should see even better results than before!\n",
    "loss_history, train_history, val_history = trainer.fit()"
   ]
  },
  {
   "cell_type": "markdown",
   "metadata": {},
   "source": [
    "# Ну что, давайте уже тренировать сеть!"
   ]
  },
  {
   "cell_type": "markdown",
   "metadata": {},
   "source": [
    "## Последний тест - переобучимся (overfit) на маленьком наборе данных\n",
    "\n",
    "Хороший способ проверить, все ли реализовано корректно - переобучить сеть на маленьком наборе данных.  \n",
    "Наша модель обладает достаточной мощностью, чтобы приблизить маленький набор данных идеально, поэтому мы ожидаем, что на нем мы быстро дойдем до 100% точности на тренировочном наборе. \n",
    "\n",
    "Если этого не происходит, то где-то была допущена ошибка!"
   ]
  },
  {
   "cell_type": "code",
   "execution_count": 13,
   "metadata": {},
   "outputs": [
    {
     "name": "stdout",
     "output_type": "stream",
     "text": [
      "Loss: 2.351801, Train accuracy: 0.200000, val accuracy: 0.133333\n",
      "Loss: 2.319693, Train accuracy: 0.200000, val accuracy: 0.133333\n",
      "Loss: 2.295926, Train accuracy: 0.200000, val accuracy: 0.133333\n",
      "Loss: 2.345443, Train accuracy: 0.200000, val accuracy: 0.133333\n",
      "Loss: 2.310013, Train accuracy: 0.200000, val accuracy: 0.133333\n",
      "Loss: 2.326544, Train accuracy: 0.200000, val accuracy: 0.133333\n",
      "Loss: 2.255641, Train accuracy: 0.200000, val accuracy: 0.133333\n",
      "Loss: 2.199259, Train accuracy: 0.200000, val accuracy: 0.066667\n",
      "Loss: 2.164561, Train accuracy: 0.333333, val accuracy: 0.066667\n",
      "Loss: 2.025661, Train accuracy: 0.400000, val accuracy: 0.000000\n",
      "Loss: 1.883798, Train accuracy: 0.400000, val accuracy: 0.000000\n",
      "Loss: 2.263931, Train accuracy: 0.400000, val accuracy: 0.000000\n",
      "Loss: 1.662918, Train accuracy: 0.333333, val accuracy: 0.000000\n",
      "Loss: 2.245522, Train accuracy: 0.333333, val accuracy: 0.000000\n",
      "Loss: 1.943906, Train accuracy: 0.400000, val accuracy: 0.000000\n",
      "Loss: 1.663953, Train accuracy: 0.333333, val accuracy: 0.000000\n",
      "Loss: 2.042200, Train accuracy: 0.400000, val accuracy: 0.000000\n",
      "Loss: 1.418303, Train accuracy: 0.400000, val accuracy: 0.000000\n",
      "Loss: 1.519709, Train accuracy: 0.400000, val accuracy: 0.000000\n",
      "Loss: 1.823944, Train accuracy: 0.466667, val accuracy: 0.000000\n",
      "Loss: 2.022291, Train accuracy: 0.400000, val accuracy: 0.000000\n",
      "Loss: 1.585656, Train accuracy: 0.400000, val accuracy: 0.000000\n",
      "Loss: 1.937038, Train accuracy: 0.400000, val accuracy: 0.066667\n",
      "Loss: 1.908215, Train accuracy: 0.466667, val accuracy: 0.000000\n",
      "Loss: 1.233499, Train accuracy: 0.466667, val accuracy: 0.000000\n",
      "Loss: 2.095108, Train accuracy: 0.466667, val accuracy: 0.000000\n",
      "Loss: 1.718242, Train accuracy: 0.466667, val accuracy: 0.066667\n",
      "Loss: 2.162756, Train accuracy: 0.466667, val accuracy: 0.066667\n",
      "Loss: 2.015933, Train accuracy: 0.466667, val accuracy: 0.000000\n",
      "Loss: 1.363952, Train accuracy: 0.466667, val accuracy: 0.000000\n",
      "Loss: 1.842670, Train accuracy: 0.533333, val accuracy: 0.000000\n",
      "Loss: 1.657567, Train accuracy: 0.533333, val accuracy: 0.066667\n",
      "Loss: 1.388463, Train accuracy: 0.533333, val accuracy: 0.066667\n",
      "Loss: 1.911120, Train accuracy: 0.533333, val accuracy: 0.066667\n",
      "Loss: 1.693765, Train accuracy: 0.600000, val accuracy: 0.000000\n",
      "Loss: 2.010436, Train accuracy: 0.600000, val accuracy: 0.066667\n",
      "Loss: 1.115900, Train accuracy: 0.600000, val accuracy: 0.066667\n",
      "Loss: 1.613706, Train accuracy: 0.600000, val accuracy: 0.066667\n",
      "Loss: 1.738574, Train accuracy: 0.600000, val accuracy: 0.066667\n",
      "Loss: 1.885192, Train accuracy: 0.600000, val accuracy: 0.066667\n",
      "Loss: 2.474042, Train accuracy: 0.666667, val accuracy: 0.066667\n",
      "Loss: 1.119274, Train accuracy: 0.666667, val accuracy: 0.066667\n",
      "Loss: 1.672047, Train accuracy: 0.666667, val accuracy: 0.066667\n",
      "Loss: 1.767860, Train accuracy: 0.666667, val accuracy: 0.066667\n",
      "Loss: 1.478802, Train accuracy: 0.666667, val accuracy: 0.066667\n",
      "Loss: 1.926619, Train accuracy: 0.733333, val accuracy: 0.066667\n",
      "Loss: 1.337383, Train accuracy: 0.733333, val accuracy: 0.066667\n",
      "Loss: 1.683186, Train accuracy: 0.733333, val accuracy: 0.066667\n",
      "Loss: 1.660081, Train accuracy: 0.800000, val accuracy: 0.066667\n",
      "Loss: 1.401881, Train accuracy: 0.733333, val accuracy: 0.133333\n",
      "Loss: 1.635264, Train accuracy: 0.733333, val accuracy: 0.000000\n",
      "Loss: 1.635617, Train accuracy: 0.733333, val accuracy: 0.066667\n",
      "Loss: 1.622938, Train accuracy: 0.733333, val accuracy: 0.066667\n",
      "Loss: 1.854111, Train accuracy: 0.733333, val accuracy: 0.066667\n",
      "Loss: 1.556636, Train accuracy: 0.733333, val accuracy: 0.066667\n",
      "Loss: 1.634732, Train accuracy: 0.733333, val accuracy: 0.066667\n",
      "Loss: 1.076198, Train accuracy: 0.666667, val accuracy: 0.000000\n",
      "Loss: 1.007559, Train accuracy: 0.733333, val accuracy: 0.066667\n",
      "Loss: 1.531114, Train accuracy: 0.733333, val accuracy: 0.066667\n",
      "Loss: 1.041336, Train accuracy: 0.733333, val accuracy: 0.066667\n",
      "Loss: 2.022564, Train accuracy: 0.733333, val accuracy: 0.066667\n",
      "Loss: 1.647379, Train accuracy: 0.733333, val accuracy: 0.066667\n",
      "Loss: 1.369538, Train accuracy: 0.733333, val accuracy: 0.066667\n",
      "Loss: 1.379903, Train accuracy: 0.733333, val accuracy: 0.066667\n",
      "Loss: 1.986917, Train accuracy: 0.733333, val accuracy: 0.066667\n",
      "Loss: 1.318972, Train accuracy: 0.733333, val accuracy: 0.066667\n",
      "Loss: 1.283966, Train accuracy: 0.733333, val accuracy: 0.000000\n",
      "Loss: 0.936269, Train accuracy: 0.733333, val accuracy: 0.066667\n",
      "Loss: 1.196061, Train accuracy: 0.733333, val accuracy: 0.066667\n",
      "Loss: 1.739352, Train accuracy: 0.733333, val accuracy: 0.066667\n",
      "Loss: 1.634901, Train accuracy: 0.733333, val accuracy: 0.066667\n",
      "Loss: 1.201189, Train accuracy: 0.733333, val accuracy: 0.000000\n",
      "Loss: 1.582981, Train accuracy: 0.733333, val accuracy: 0.066667\n",
      "Loss: 1.742143, Train accuracy: 0.733333, val accuracy: 0.066667\n",
      "Loss: 1.293135, Train accuracy: 0.733333, val accuracy: 0.066667\n",
      "Loss: 1.748190, Train accuracy: 0.800000, val accuracy: 0.066667\n",
      "Loss: 1.976545, Train accuracy: 0.800000, val accuracy: 0.000000\n",
      "Loss: 1.357876, Train accuracy: 0.800000, val accuracy: 0.066667\n",
      "Loss: 0.992895, Train accuracy: 0.800000, val accuracy: 0.066667\n",
      "Loss: 1.602046, Train accuracy: 0.800000, val accuracy: 0.066667\n",
      "Loss: 1.602167, Train accuracy: 0.866667, val accuracy: 0.066667\n",
      "Loss: 1.173057, Train accuracy: 0.866667, val accuracy: 0.066667\n",
      "Loss: 1.312798, Train accuracy: 0.866667, val accuracy: 0.000000\n",
      "Loss: 1.564551, Train accuracy: 0.866667, val accuracy: 0.000000\n",
      "Loss: 0.961713, Train accuracy: 0.866667, val accuracy: 0.066667\n",
      "Loss: 1.274091, Train accuracy: 0.866667, val accuracy: 0.066667\n",
      "Loss: 1.304703, Train accuracy: 0.933333, val accuracy: 0.066667\n",
      "Loss: 0.958926, Train accuracy: 0.933333, val accuracy: 0.066667\n",
      "Loss: 1.377168, Train accuracy: 0.866667, val accuracy: 0.066667\n",
      "Loss: 1.657193, Train accuracy: 0.933333, val accuracy: 0.066667\n",
      "Loss: 1.389767, Train accuracy: 0.933333, val accuracy: 0.066667\n",
      "Loss: 1.576803, Train accuracy: 0.933333, val accuracy: 0.066667\n",
      "Loss: 1.556738, Train accuracy: 0.933333, val accuracy: 0.066667\n",
      "Loss: 1.175409, Train accuracy: 0.933333, val accuracy: 0.000000\n",
      "Loss: 1.322616, Train accuracy: 0.933333, val accuracy: 0.066667\n",
      "Loss: 1.251510, Train accuracy: 0.933333, val accuracy: 0.066667\n",
      "Loss: 1.060407, Train accuracy: 0.933333, val accuracy: 0.066667\n",
      "Loss: 1.661861, Train accuracy: 0.933333, val accuracy: 0.066667\n",
      "Loss: 1.227308, Train accuracy: 0.933333, val accuracy: 0.066667\n",
      "Loss: 1.597969, Train accuracy: 0.933333, val accuracy: 0.066667\n",
      "Loss: 1.887250, Train accuracy: 0.933333, val accuracy: 0.066667\n",
      "Loss: 1.338688, Train accuracy: 0.933333, val accuracy: 0.066667\n",
      "Loss: 1.842966, Train accuracy: 0.933333, val accuracy: 0.066667\n",
      "Loss: 1.160604, Train accuracy: 0.933333, val accuracy: 0.066667\n",
      "Loss: 1.347215, Train accuracy: 0.933333, val accuracy: 0.066667\n",
      "Loss: 1.223119, Train accuracy: 0.933333, val accuracy: 0.066667\n",
      "Loss: 1.436648, Train accuracy: 0.933333, val accuracy: 0.000000\n",
      "Loss: 1.535320, Train accuracy: 0.933333, val accuracy: 0.066667\n",
      "Loss: 1.249121, Train accuracy: 0.933333, val accuracy: 0.066667\n",
      "Loss: 1.248964, Train accuracy: 0.933333, val accuracy: 0.000000\n",
      "Loss: 1.549803, Train accuracy: 1.000000, val accuracy: 0.066667\n",
      "Loss: 1.259687, Train accuracy: 0.933333, val accuracy: 0.000000\n",
      "Loss: 1.097239, Train accuracy: 1.000000, val accuracy: 0.000000\n",
      "Loss: 1.324286, Train accuracy: 0.933333, val accuracy: 0.000000\n",
      "Loss: 1.315431, Train accuracy: 0.933333, val accuracy: 0.000000\n",
      "Loss: 1.420746, Train accuracy: 1.000000, val accuracy: 0.000000\n",
      "Loss: 1.443017, Train accuracy: 0.933333, val accuracy: 0.000000\n",
      "Loss: 1.301618, Train accuracy: 1.000000, val accuracy: 0.000000\n",
      "Loss: 1.533658, Train accuracy: 1.000000, val accuracy: 0.000000\n",
      "Loss: 1.607993, Train accuracy: 1.000000, val accuracy: 0.000000\n",
      "Loss: 1.239065, Train accuracy: 0.933333, val accuracy: 0.000000\n",
      "Loss: 1.649177, Train accuracy: 1.000000, val accuracy: 0.000000\n",
      "Loss: 1.174445, Train accuracy: 1.000000, val accuracy: 0.000000\n",
      "Loss: 1.602848, Train accuracy: 1.000000, val accuracy: 0.000000\n",
      "Loss: 1.363682, Train accuracy: 1.000000, val accuracy: 0.000000\n",
      "Loss: 1.160640, Train accuracy: 1.000000, val accuracy: 0.000000\n",
      "Loss: 1.197888, Train accuracy: 1.000000, val accuracy: 0.000000\n",
      "Loss: 1.126413, Train accuracy: 1.000000, val accuracy: 0.000000\n",
      "Loss: 1.008120, Train accuracy: 1.000000, val accuracy: 0.000000\n"
     ]
    },
    {
     "name": "stdout",
     "output_type": "stream",
     "text": [
      "Loss: 1.643235, Train accuracy: 1.000000, val accuracy: 0.000000\n",
      "Loss: 1.592807, Train accuracy: 1.000000, val accuracy: 0.000000\n",
      "Loss: 1.412599, Train accuracy: 1.000000, val accuracy: 0.000000\n",
      "Loss: 1.212850, Train accuracy: 1.000000, val accuracy: 0.000000\n",
      "Loss: 1.196541, Train accuracy: 0.933333, val accuracy: 0.000000\n",
      "Loss: 1.280346, Train accuracy: 1.000000, val accuracy: 0.000000\n",
      "Loss: 1.403204, Train accuracy: 1.000000, val accuracy: 0.000000\n",
      "Loss: 1.229377, Train accuracy: 1.000000, val accuracy: 0.000000\n",
      "Loss: 1.400568, Train accuracy: 1.000000, val accuracy: 0.000000\n",
      "Loss: 1.391042, Train accuracy: 1.000000, val accuracy: 0.000000\n",
      "Loss: 1.102808, Train accuracy: 1.000000, val accuracy: 0.000000\n",
      "Loss: 1.445285, Train accuracy: 1.000000, val accuracy: 0.000000\n",
      "Loss: 1.406323, Train accuracy: 1.000000, val accuracy: 0.000000\n",
      "Loss: 1.219193, Train accuracy: 1.000000, val accuracy: 0.000000\n",
      "Loss: 1.449330, Train accuracy: 1.000000, val accuracy: 0.000000\n",
      "Loss: 1.304464, Train accuracy: 1.000000, val accuracy: 0.000000\n",
      "Loss: 1.494726, Train accuracy: 1.000000, val accuracy: 0.000000\n",
      "Loss: 1.327706, Train accuracy: 1.000000, val accuracy: 0.000000\n",
      "Loss: 1.361608, Train accuracy: 1.000000, val accuracy: 0.000000\n",
      "Loss: 1.460816, Train accuracy: 1.000000, val accuracy: 0.000000\n",
      "Loss: 1.424061, Train accuracy: 1.000000, val accuracy: 0.000000\n"
     ]
    }
   ],
   "source": [
    "data_size = 15\n",
    "model = TwoLayerNet(n_input = train_X.shape[1], n_output = 10, hidden_layer_size = 100, reg = 1e-1)\n",
    "dataset = Dataset(train_X[:data_size], train_y[:data_size], val_X[:data_size], val_y[:data_size])\n",
    "trainer = Trainer(model, dataset, SGD(), learning_rate=1e-1, num_epochs=150, batch_size=5)\n",
    "\n",
    "# You should expect this to reach 1.0 training accuracy \n",
    "loss_history, train_history, val_history = trainer.fit()"
   ]
  },
  {
   "cell_type": "markdown",
   "metadata": {},
   "source": [
    "Теперь найдем гипепараметры, для которых этот процесс сходится быстрее.\n",
    "Если все реализовано корректно, то существуют параметры, при которых процесс сходится в **20** эпох или еще быстрее.\n",
    "Найдите их!"
   ]
  },
  {
   "cell_type": "code",
   "execution_count": 14,
   "metadata": {},
   "outputs": [
    {
     "name": "stdout",
     "output_type": "stream",
     "text": [
      "Loss: 2.331042, Train accuracy: 0.200000, val accuracy: 0.133333\n",
      "Loss: 2.319385, Train accuracy: 0.200000, val accuracy: 0.133333\n",
      "Loss: 2.283704, Train accuracy: 0.200000, val accuracy: 0.133333\n",
      "Loss: 2.309925, Train accuracy: 0.266667, val accuracy: 0.000000\n",
      "Loss: 2.285989, Train accuracy: 0.266667, val accuracy: 0.000000\n",
      "Loss: 2.352220, Train accuracy: 0.266667, val accuracy: 0.000000\n",
      "Loss: 2.261306, Train accuracy: 0.266667, val accuracy: 0.000000\n",
      "Loss: 2.287292, Train accuracy: 0.400000, val accuracy: 0.000000\n",
      "Loss: 2.315104, Train accuracy: 0.400000, val accuracy: 0.000000\n",
      "Loss: 2.268513, Train accuracy: 0.400000, val accuracy: 0.000000\n",
      "Loss: 2.242892, Train accuracy: 0.400000, val accuracy: 0.000000\n",
      "Loss: 2.047102, Train accuracy: 0.400000, val accuracy: 0.000000\n",
      "Loss: 1.901234, Train accuracy: 0.333333, val accuracy: 0.000000\n",
      "Loss: 1.948076, Train accuracy: 0.333333, val accuracy: 0.000000\n",
      "Loss: 1.740618, Train accuracy: 0.333333, val accuracy: 0.000000\n",
      "Loss: 1.914006, Train accuracy: 0.333333, val accuracy: 0.000000\n",
      "Loss: 1.841368, Train accuracy: 0.400000, val accuracy: 0.000000\n",
      "Loss: 1.927281, Train accuracy: 0.400000, val accuracy: 0.000000\n",
      "Loss: 2.294955, Train accuracy: 0.400000, val accuracy: 0.000000\n",
      "Loss: 1.815748, Train accuracy: 0.400000, val accuracy: 0.000000\n"
     ]
    }
   ],
   "source": [
    "# Now, tweak some hyper parameters and make it train to 1.0 accuracy in 20 epochs or less\n",
    "\n",
    "model = TwoLayerNet(n_input = train_X.shape[1], n_output = 10, hidden_layer_size = 100, reg = 1e-1)\n",
    "dataset = Dataset(train_X[:data_size], train_y[:data_size], val_X[:data_size], val_y[:data_size])\n",
    "# TODO: Change any hyperparamers or optimizators to reach training accuracy in 20 epochs\n",
    "trainer = Trainer(model, dataset, SGD(), learning_rate=1e-1, num_epochs=20, batch_size=5)\n",
    "\n",
    "loss_history, train_history, val_history = trainer.fit()"
   ]
  },
  {
   "cell_type": "markdown",
   "metadata": {},
   "source": [
    "# Итак, основное мероприятие!\n",
    "\n",
    "Натренируйте лучшую нейросеть! Можно добавлять и изменять параметры, менять количество нейронов в слоях сети и как угодно экспериментировать. \n",
    "\n",
    "Добейтесь точности лучше **60%** на validation set."
   ]
  },
  {
   "cell_type": "code",
   "execution_count": 16,
   "metadata": {
    "scrolled": true
   },
   "outputs": [
    {
     "name": "stdout",
     "output_type": "stream",
     "text": [
      "Loss: 2.302894, Train accuracy: 0.150222, val accuracy: 0.138000\n",
      "Loss: 2.302708, Train accuracy: 0.168111, val accuracy: 0.158000\n",
      "Loss: 2.302067, Train accuracy: 0.196667, val accuracy: 0.206000\n",
      "Loss: 2.302612, Train accuracy: 0.196667, val accuracy: 0.206000\n",
      "Loss: 2.301671, Train accuracy: 0.196667, val accuracy: 0.206000\n",
      "Loss: 2.301938, Train accuracy: 0.196667, val accuracy: 0.206000\n",
      "Loss: 2.300620, Train accuracy: 0.196667, val accuracy: 0.206000\n",
      "Loss: 2.300583, Train accuracy: 0.196667, val accuracy: 0.206000\n",
      "Loss: 2.299049, Train accuracy: 0.196667, val accuracy: 0.206000\n",
      "Loss: 2.301054, Train accuracy: 0.196667, val accuracy: 0.206000\n",
      "Loss: 2.300701, Train accuracy: 0.196667, val accuracy: 0.206000\n",
      "Loss: 2.296117, Train accuracy: 0.196667, val accuracy: 0.206000\n",
      "Loss: 2.300853, Train accuracy: 0.196667, val accuracy: 0.206000\n",
      "Loss: 2.298154, Train accuracy: 0.196667, val accuracy: 0.206000\n",
      "Loss: 2.300848, Train accuracy: 0.196667, val accuracy: 0.206000\n",
      "Loss: 2.298265, Train accuracy: 0.196667, val accuracy: 0.206000\n",
      "Loss: 2.299789, Train accuracy: 0.196667, val accuracy: 0.206000\n",
      "Loss: 2.302017, Train accuracy: 0.196667, val accuracy: 0.206000\n",
      "Loss: 2.298812, Train accuracy: 0.196667, val accuracy: 0.206000\n",
      "Loss: 2.298901, Train accuracy: 0.196667, val accuracy: 0.206000\n",
      "Loss: 2.300413, Train accuracy: 0.196667, val accuracy: 0.206000\n",
      "Loss: 2.299959, Train accuracy: 0.196667, val accuracy: 0.206000\n",
      "Loss: 2.295737, Train accuracy: 0.196667, val accuracy: 0.206000\n",
      "Loss: 2.299950, Train accuracy: 0.196667, val accuracy: 0.206000\n",
      "Loss: 2.295571, Train accuracy: 0.196667, val accuracy: 0.206000\n",
      "Loss: 2.299891, Train accuracy: 0.196667, val accuracy: 0.206000\n",
      "Loss: 2.298026, Train accuracy: 0.196667, val accuracy: 0.206000\n",
      "Loss: 2.296357, Train accuracy: 0.196667, val accuracy: 0.206000\n",
      "Loss: 2.296505, Train accuracy: 0.196667, val accuracy: 0.206000\n",
      "Loss: 2.301949, Train accuracy: 0.196667, val accuracy: 0.206000\n",
      "Loss: 2.291493, Train accuracy: 0.196667, val accuracy: 0.206000\n",
      "Loss: 2.297171, Train accuracy: 0.196667, val accuracy: 0.206000\n",
      "Loss: 2.298733, Train accuracy: 0.196667, val accuracy: 0.206000\n",
      "Loss: 2.290846, Train accuracy: 0.196667, val accuracy: 0.206000\n",
      "Loss: 2.287811, Train accuracy: 0.196667, val accuracy: 0.206000\n",
      "Loss: 2.291046, Train accuracy: 0.196667, val accuracy: 0.206000\n",
      "Loss: 2.294175, Train accuracy: 0.196667, val accuracy: 0.206000\n",
      "Loss: 2.300730, Train accuracy: 0.196667, val accuracy: 0.206000\n",
      "Loss: 2.300097, Train accuracy: 0.196667, val accuracy: 0.206000\n",
      "Loss: 2.294588, Train accuracy: 0.196667, val accuracy: 0.206000\n",
      "Loss: 2.303368, Train accuracy: 0.196667, val accuracy: 0.206000\n",
      "Loss: 2.288573, Train accuracy: 0.196667, val accuracy: 0.206000\n",
      "Loss: 2.288903, Train accuracy: 0.196667, val accuracy: 0.206000\n",
      "Loss: 2.300376, Train accuracy: 0.196667, val accuracy: 0.206000\n",
      "Loss: 2.290867, Train accuracy: 0.196667, val accuracy: 0.206000\n",
      "Loss: 2.290001, Train accuracy: 0.196667, val accuracy: 0.206000\n",
      "Loss: 2.294812, Train accuracy: 0.196667, val accuracy: 0.206000\n",
      "Loss: 2.291852, Train accuracy: 0.196667, val accuracy: 0.206000\n",
      "Loss: 2.291844, Train accuracy: 0.196667, val accuracy: 0.206000\n",
      "Loss: 2.291468, Train accuracy: 0.196667, val accuracy: 0.206000\n",
      "Loss: 2.278472, Train accuracy: 0.196667, val accuracy: 0.206000\n",
      "Loss: 2.296630, Train accuracy: 0.196667, val accuracy: 0.206000\n",
      "Loss: 2.294019, Train accuracy: 0.196667, val accuracy: 0.206000\n",
      "Loss: 2.288173, Train accuracy: 0.196667, val accuracy: 0.206000\n",
      "Loss: 2.287820, Train accuracy: 0.196667, val accuracy: 0.206000\n",
      "Loss: 2.284846, Train accuracy: 0.196667, val accuracy: 0.206000\n",
      "Loss: 2.290937, Train accuracy: 0.196667, val accuracy: 0.206000\n",
      "Loss: 2.292018, Train accuracy: 0.196667, val accuracy: 0.206000\n",
      "Loss: 2.300542, Train accuracy: 0.196667, val accuracy: 0.206000\n",
      "Loss: 2.292936, Train accuracy: 0.196667, val accuracy: 0.206000\n",
      "Loss: 2.285185, Train accuracy: 0.196667, val accuracy: 0.206000\n",
      "Loss: 2.288995, Train accuracy: 0.196667, val accuracy: 0.206000\n",
      "Loss: 2.292374, Train accuracy: 0.196667, val accuracy: 0.206000\n",
      "Loss: 2.277094, Train accuracy: 0.196667, val accuracy: 0.206000\n",
      "Loss: 2.289712, Train accuracy: 0.196667, val accuracy: 0.206000\n",
      "Loss: 2.298877, Train accuracy: 0.196667, val accuracy: 0.206000\n",
      "Loss: 2.289586, Train accuracy: 0.196667, val accuracy: 0.206000\n",
      "Loss: 2.289138, Train accuracy: 0.196667, val accuracy: 0.206000\n",
      "Loss: 2.274714, Train accuracy: 0.196667, val accuracy: 0.206000\n",
      "Loss: 2.293641, Train accuracy: 0.196667, val accuracy: 0.206000\n",
      "Loss: 2.304884, Train accuracy: 0.196667, val accuracy: 0.206000\n",
      "Loss: 2.285700, Train accuracy: 0.196667, val accuracy: 0.206000\n",
      "Loss: 2.301107, Train accuracy: 0.196667, val accuracy: 0.206000\n",
      "Loss: 2.290487, Train accuracy: 0.196667, val accuracy: 0.206000\n",
      "Loss: 2.291411, Train accuracy: 0.196667, val accuracy: 0.206000\n",
      "Loss: 2.292956, Train accuracy: 0.196667, val accuracy: 0.206000\n",
      "Loss: 2.294181, Train accuracy: 0.196667, val accuracy: 0.206000\n",
      "Loss: 2.281969, Train accuracy: 0.196667, val accuracy: 0.206000\n",
      "Loss: 2.268213, Train accuracy: 0.196667, val accuracy: 0.206000\n",
      "Loss: 2.287892, Train accuracy: 0.196667, val accuracy: 0.206000\n",
      "Loss: 2.294997, Train accuracy: 0.196667, val accuracy: 0.206000\n",
      "Loss: 2.281607, Train accuracy: 0.196667, val accuracy: 0.206000\n",
      "Loss: 2.290212, Train accuracy: 0.196667, val accuracy: 0.206000\n",
      "Loss: 2.282788, Train accuracy: 0.196667, val accuracy: 0.206000\n",
      "Loss: 2.285199, Train accuracy: 0.196667, val accuracy: 0.206000\n",
      "Loss: 2.282436, Train accuracy: 0.196667, val accuracy: 0.206000\n",
      "Loss: 2.272564, Train accuracy: 0.196667, val accuracy: 0.206000\n",
      "Loss: 2.280010, Train accuracy: 0.196667, val accuracy: 0.206000\n",
      "Loss: 2.279734, Train accuracy: 0.196667, val accuracy: 0.206000\n",
      "Loss: 2.284115, Train accuracy: 0.196667, val accuracy: 0.206000\n",
      "Loss: 2.284051, Train accuracy: 0.196667, val accuracy: 0.206000\n",
      "Loss: 2.282789, Train accuracy: 0.196667, val accuracy: 0.206000\n",
      "Loss: 2.288165, Train accuracy: 0.196667, val accuracy: 0.206000\n",
      "Loss: 2.277780, Train accuracy: 0.196667, val accuracy: 0.206000\n",
      "Loss: 2.291479, Train accuracy: 0.196667, val accuracy: 0.206000\n",
      "Loss: 2.290090, Train accuracy: 0.196667, val accuracy: 0.206000\n",
      "Loss: 2.290820, Train accuracy: 0.196667, val accuracy: 0.206000\n",
      "Loss: 2.280776, Train accuracy: 0.196667, val accuracy: 0.206000\n",
      "Loss: 2.283177, Train accuracy: 0.196667, val accuracy: 0.206000\n",
      "Loss: 2.278060, Train accuracy: 0.196667, val accuracy: 0.206000\n",
      "Loss: 2.291651, Train accuracy: 0.196667, val accuracy: 0.206000\n",
      "Loss: 2.286685, Train accuracy: 0.196667, val accuracy: 0.206000\n",
      "Loss: 2.289593, Train accuracy: 0.196667, val accuracy: 0.206000\n",
      "Loss: 2.289865, Train accuracy: 0.196667, val accuracy: 0.206000\n",
      "Loss: 2.291789, Train accuracy: 0.196667, val accuracy: 0.206000\n",
      "Loss: 2.269193, Train accuracy: 0.196667, val accuracy: 0.206000\n",
      "Loss: 2.268614, Train accuracy: 0.196667, val accuracy: 0.206000\n",
      "Loss: 2.276377, Train accuracy: 0.196667, val accuracy: 0.206000\n",
      "Loss: 2.290226, Train accuracy: 0.196667, val accuracy: 0.206000\n",
      "Loss: 2.303665, Train accuracy: 0.196667, val accuracy: 0.206000\n",
      "Loss: 2.273624, Train accuracy: 0.196667, val accuracy: 0.206000\n",
      "Loss: 2.263329, Train accuracy: 0.196667, val accuracy: 0.206000\n",
      "Loss: 2.272567, Train accuracy: 0.196667, val accuracy: 0.206000\n",
      "Loss: 2.293202, Train accuracy: 0.196667, val accuracy: 0.206000\n",
      "Loss: 2.296150, Train accuracy: 0.196667, val accuracy: 0.206000\n",
      "Loss: 2.279081, Train accuracy: 0.196667, val accuracy: 0.206000\n",
      "Loss: 2.276876, Train accuracy: 0.196667, val accuracy: 0.206000\n",
      "Loss: 2.289969, Train accuracy: 0.196667, val accuracy: 0.206000\n",
      "Loss: 2.277657, Train accuracy: 0.196667, val accuracy: 0.206000\n",
      "Loss: 2.269310, Train accuracy: 0.196667, val accuracy: 0.206000\n",
      "Loss: 2.265713, Train accuracy: 0.196667, val accuracy: 0.206000\n",
      "Loss: 2.272650, Train accuracy: 0.196667, val accuracy: 0.206000\n",
      "Loss: 2.290365, Train accuracy: 0.196667, val accuracy: 0.206000\n",
      "Loss: 2.281629, Train accuracy: 0.196667, val accuracy: 0.206000\n",
      "Loss: 2.285411, Train accuracy: 0.196667, val accuracy: 0.206000\n",
      "Loss: 2.290140, Train accuracy: 0.196667, val accuracy: 0.206000\n",
      "Loss: 2.258187, Train accuracy: 0.196667, val accuracy: 0.206000\n"
     ]
    },
    {
     "name": "stdout",
     "output_type": "stream",
     "text": [
      "Loss: 2.282489, Train accuracy: 0.196667, val accuracy: 0.206000\n",
      "Loss: 2.285079, Train accuracy: 0.196667, val accuracy: 0.206000\n",
      "Loss: 2.276091, Train accuracy: 0.196667, val accuracy: 0.206000\n",
      "Loss: 2.259529, Train accuracy: 0.196667, val accuracy: 0.206000\n",
      "Loss: 2.302857, Train accuracy: 0.196667, val accuracy: 0.206000\n",
      "Loss: 2.276423, Train accuracy: 0.196667, val accuracy: 0.206000\n",
      "Loss: 2.292543, Train accuracy: 0.196667, val accuracy: 0.206000\n",
      "Loss: 2.279317, Train accuracy: 0.196667, val accuracy: 0.206000\n",
      "Loss: 2.262619, Train accuracy: 0.196667, val accuracy: 0.206000\n",
      "Loss: 2.289587, Train accuracy: 0.196667, val accuracy: 0.206000\n",
      "Loss: 2.277556, Train accuracy: 0.196667, val accuracy: 0.206000\n",
      "Loss: 2.275449, Train accuracy: 0.196667, val accuracy: 0.206000\n",
      "Loss: 2.258877, Train accuracy: 0.196667, val accuracy: 0.206000\n",
      "Loss: 2.260053, Train accuracy: 0.196667, val accuracy: 0.206000\n",
      "Loss: 2.290663, Train accuracy: 0.196667, val accuracy: 0.206000\n",
      "Loss: 2.251553, Train accuracy: 0.196667, val accuracy: 0.206000\n",
      "Loss: 2.282493, Train accuracy: 0.196667, val accuracy: 0.206000\n",
      "Loss: 2.281260, Train accuracy: 0.196667, val accuracy: 0.206000\n",
      "Loss: 2.283622, Train accuracy: 0.196667, val accuracy: 0.206000\n",
      "Loss: 2.284957, Train accuracy: 0.196667, val accuracy: 0.206000\n",
      "Loss: 2.278744, Train accuracy: 0.196667, val accuracy: 0.206000\n",
      "Loss: 2.248441, Train accuracy: 0.196667, val accuracy: 0.206000\n",
      "Loss: 2.299252, Train accuracy: 0.196667, val accuracy: 0.206000\n",
      "Loss: 2.301463, Train accuracy: 0.196667, val accuracy: 0.206000\n",
      "Loss: 2.280335, Train accuracy: 0.196667, val accuracy: 0.206000\n",
      "Loss: 2.268282, Train accuracy: 0.196667, val accuracy: 0.206000\n",
      "Loss: 2.259269, Train accuracy: 0.196667, val accuracy: 0.206000\n",
      "Loss: 2.249531, Train accuracy: 0.196667, val accuracy: 0.206000\n",
      "Loss: 2.261426, Train accuracy: 0.196667, val accuracy: 0.206000\n",
      "Loss: 2.307169, Train accuracy: 0.196667, val accuracy: 0.206000\n",
      "Loss: 2.290078, Train accuracy: 0.196667, val accuracy: 0.206000\n",
      "Loss: 2.239154, Train accuracy: 0.196667, val accuracy: 0.206000\n",
      "Loss: 2.291229, Train accuracy: 0.196667, val accuracy: 0.206000\n",
      "Loss: 2.247239, Train accuracy: 0.196667, val accuracy: 0.206000\n",
      "Loss: 2.281587, Train accuracy: 0.196667, val accuracy: 0.206000\n",
      "Loss: 2.260958, Train accuracy: 0.196667, val accuracy: 0.206000\n",
      "Loss: 2.263625, Train accuracy: 0.196667, val accuracy: 0.206000\n",
      "Loss: 2.243457, Train accuracy: 0.196667, val accuracy: 0.206000\n",
      "Loss: 2.259489, Train accuracy: 0.196667, val accuracy: 0.206000\n",
      "Loss: 2.289466, Train accuracy: 0.196667, val accuracy: 0.206000\n",
      "Loss: 2.253902, Train accuracy: 0.196667, val accuracy: 0.206000\n",
      "Loss: 2.278195, Train accuracy: 0.196667, val accuracy: 0.206000\n",
      "Loss: 2.281019, Train accuracy: 0.196667, val accuracy: 0.206000\n",
      "Loss: 2.274770, Train accuracy: 0.196667, val accuracy: 0.206000\n",
      "Loss: 2.297417, Train accuracy: 0.196667, val accuracy: 0.206000\n",
      "Loss: 2.296363, Train accuracy: 0.196667, val accuracy: 0.206000\n",
      "Loss: 2.245287, Train accuracy: 0.196667, val accuracy: 0.206000\n",
      "Loss: 2.281237, Train accuracy: 0.196667, val accuracy: 0.206000\n",
      "Loss: 2.248091, Train accuracy: 0.196667, val accuracy: 0.206000\n",
      "Loss: 2.270124, Train accuracy: 0.196667, val accuracy: 0.206000\n",
      "Loss: 2.282357, Train accuracy: 0.196667, val accuracy: 0.206000\n",
      "Loss: 2.251614, Train accuracy: 0.196667, val accuracy: 0.206000\n",
      "Loss: 2.257536, Train accuracy: 0.196667, val accuracy: 0.206000\n",
      "Loss: 2.257556, Train accuracy: 0.196667, val accuracy: 0.206000\n",
      "Loss: 2.277846, Train accuracy: 0.196667, val accuracy: 0.206000\n",
      "Loss: 2.283941, Train accuracy: 0.196667, val accuracy: 0.206000\n",
      "Loss: 2.282890, Train accuracy: 0.196667, val accuracy: 0.206000\n",
      "Loss: 2.282690, Train accuracy: 0.196667, val accuracy: 0.206000\n",
      "Loss: 2.269435, Train accuracy: 0.196667, val accuracy: 0.206000\n",
      "Loss: 2.251054, Train accuracy: 0.196667, val accuracy: 0.206000\n",
      "Loss: 2.270304, Train accuracy: 0.196667, val accuracy: 0.206000\n",
      "Loss: 2.291664, Train accuracy: 0.196667, val accuracy: 0.206000\n",
      "Loss: 2.233128, Train accuracy: 0.196667, val accuracy: 0.206000\n",
      "Loss: 2.243199, Train accuracy: 0.196667, val accuracy: 0.206000\n",
      "Loss: 2.269696, Train accuracy: 0.196667, val accuracy: 0.206000\n",
      "Loss: 2.244860, Train accuracy: 0.196667, val accuracy: 0.206000\n",
      "Loss: 2.254446, Train accuracy: 0.196667, val accuracy: 0.206000\n",
      "Loss: 2.250266, Train accuracy: 0.196667, val accuracy: 0.206000\n",
      "Loss: 2.258835, Train accuracy: 0.196667, val accuracy: 0.206000\n",
      "Loss: 2.247454, Train accuracy: 0.196667, val accuracy: 0.206000\n",
      "Loss: 2.277307, Train accuracy: 0.196667, val accuracy: 0.206000\n",
      "Loss: 2.296073, Train accuracy: 0.196667, val accuracy: 0.206000\n",
      "Loss: 2.265353, Train accuracy: 0.196667, val accuracy: 0.206000\n"
     ]
    }
   ],
   "source": [
    "# Let's train the best one-hidden-layer network we can\n",
    "\n",
    "learning_rates = 1e-4\n",
    "reg_strength = 1e-3\n",
    "learning_rate_decay = 0.999\n",
    "hidden_layer_size = 128\n",
    "num_epochs = 200\n",
    "batch_size = 64\n",
    "\n",
    "best_classifier = None\n",
    "best_val_accuracy = None\n",
    "\n",
    "loss_history = []\n",
    "train_history = []\n",
    "val_history = []\n",
    "\n",
    "# TODO find the best hyperparameters to train the network\n",
    "# Don't hesitate to add new values to the arrays above, perform experiments, use any tricks you want\n",
    "# You should expect to get to at least 40% of valudation accuracy\n",
    "# Save loss/train/history of the best classifier to the variables above\n",
    "model = TwoLayerNet(n_input = train_X.shape[1], n_output = 10, hidden_layer_size = hidden_layer_size, \n",
    "                    reg = reg_strength)\n",
    "dataset = Dataset(train_X, train_y, val_X, val_y)\n",
    "trainer = Trainer(model, dataset, SGD(), learning_rate=learning_rates, num_epochs=num_epochs, \n",
    "                  batch_size=batch_size, learning_rate_decay=learning_rate_decay)\n",
    "\n",
    "loss_history, train_history, val_history = trainer.fit()\n",
    "\n",
    "#print('best validation accuracy achieved: %f' % best_val_accuracy)"
   ]
  },
  {
   "cell_type": "code",
   "execution_count": 17,
   "metadata": {},
   "outputs": [
    {
     "data": {
      "text/plain": [
       "[<matplotlib.lines.Line2D at 0x19e28cc9400>]"
      ]
     },
     "execution_count": 17,
     "metadata": {},
     "output_type": "execute_result"
    },
    {
     "data": {
      "image/png": "[encoded data removed]",
      "text/plain": [
       "<Figure size 1080x504 with 2 Axes>"
      ]
     },
     "metadata": {
      "needs_background": "light"
     },
     "output_type": "display_data"
    }
   ],
   "source": [
    "plt.figure(figsize=(15, 7))\n",
    "plt.subplot(211)\n",
    "plt.title(\"Loss\")\n",
    "plt.plot(loss_history)\n",
    "plt.subplot(212)\n",
    "plt.title(\"Train/validation accuracy\")\n",
    "plt.plot(train_history)\n",
    "plt.plot(val_history)"
   ]
  },
  {
   "cell_type": "markdown",
   "metadata": {},
   "source": [
    "# Как обычно, посмотрим, как наша лучшая модель работает на тестовых данных"
   ]
  },
  {
   "cell_type": "code",
   "execution_count": 19,
   "metadata": {},
   "outputs": [
    {
     "name": "stdout",
     "output_type": "stream",
     "text": [
      "Neural net test set accuracy: 0.182000\n"
     ]
    }
   ],
   "source": [
    "test_pred = model.predict(test_X)\n",
    "test_accuracy = multiclass_accuracy(test_pred, test_y)\n",
    "print('Neural net test set accuracy: %f' % (test_accuracy, ))"
   ]
  },
  {
   "cell_type": "code",
   "execution_count": null,
   "metadata": {},
   "outputs": [],
   "source": []
  }
 ],
 "metadata": {
  "kernelspec": {
   "display_name": "Python 3",
   "language": "python",
   "name": "python3"
  },
  "language_info": {
   "codemirror_mode": {
    "name": "ipython",
    "version": 3
   },
   "file_extension": ".py",
   "mimetype": "text/x-python",
   "name": "python",
   "nbconvert_exporter": "python",
   "pygments_lexer": "ipython3",
   "version": "3.8.1"
  }
 },
 "nbformat": 4,
 "nbformat_minor": 2
}
